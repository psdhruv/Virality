{
 "cells": [
  {
   "cell_type": "code",
   "execution_count": null,
   "metadata": {},
   "outputs": [],
   "source": [
    "import os\n",
    "PROJECT = \"tatvic-gcp-dev-team\" # REPLACE WITH YOUR PROJECT ID\n",
    "BUCKET = 'data-etl-process1' # REPLACE WITH YOUR BUCKET NAME\n",
    "REGION = 'asia-east1' # REPLACE WITH YOUR BUCKET REGION e.g. us-central1\n",
    "\n"
   ]
  },
  {
   "cell_type": "code",
   "execution_count": null,
   "metadata": {},
   "outputs": [],
   "source": [
    "# For Python Code\n",
    "# Model Info\n",
    "MODEL_NAME = 'virality'\n",
    "# Model Version\n",
    "MODEL_VERSION = 'v1'\n",
    "# Training Directory name\n",
    "TRAINING_DIR = 'cloudmlemodels'\n",
    "\n",
    "os.environ['PROJECT'] = PROJECT\n",
    "os.environ['BUCKET'] = BUCKET\n",
    "os.environ['REGION'] = REGION\n",
    "os.environ['MODEL_NAME'] = MODEL_NAME\n",
    "os.environ['MODEL_VERSION'] = MODEL_VERSION\n",
    "os.environ['TRAINING_DIR'] = TRAINING_DIR \n",
    "os.environ['TFVERSION'] = '1.13'  # Tensorflow version"
   ]
  },
  {
   "cell_type": "code",
   "execution_count": null,
   "metadata": {},
   "outputs": [],
   "source": [
    "%%bash\n",
    "gcloud config set project $PROJECT\n",
    "gcloud config set compute/region $REGION"
   ]
  },
  {
   "cell_type": "code",
   "execution_count": null,
   "metadata": {},
   "outputs": [],
   "source": [
    "%%bash\n",
    "# This command will fail if the Cloud Machine Learning Engine API is not enabled using the link above.\n",
    "echo \"Getting the service account email associated with the Cloud Machine Learning Engine API\"\n",
    "\n",
    "AUTH_TOKEN=$(gcloud auth print-access-token)\n",
    "SVC_ACCOUNT=$(curl -X GET -H \"Content-Type: application/json\" \\\n",
    "    -H \"Authorization: Bearer $AUTH_TOKEN\" \\\n",
    "    https://ml.googleapis.com/v1/projects/${PROJECT}:getConfig \\\n",
    "    | python -c \"import json; import sys; response = json.load(sys.stdin); \\\n",
    "    print (response['serviceAccount'])\")  # If this command fails, the Cloud Machine Learning Engine API has not been enabled above.\n",
    "\n",
    "echo \"Authorizing the Cloud ML Service account $SVC_ACCOUNT to access files in $BUCKET\"\n",
    "gsutil -m defacl ch -u $SVC_ACCOUNT:R gs://$BUCKET   \n",
    "gsutil -m acl ch -u $SVC_ACCOUNT:R -r gs://$BUCKET   # error message (if bucket is empty) can be ignored.  \n",
    "gsutil -m acl ch -u $SVC_ACCOUNT:W gs://$BUCKET"
   ]
  },
  {
   "cell_type": "code",
   "execution_count": null,
   "metadata": {},
   "outputs": [],
   "source": [
    "#%%bash\n",
    "# This is so that the trained model is started fresh each time. However, this needs to be done before \n",
    "# tensorboard is started\n",
    "\n",
    "#echo $OUTDIR $REGION $JOBNAME\n",
    "os.environ[\"PROJECT\"]\n",
    "\n"
   ]
  },
  {
   "cell_type": "code",
   "execution_count": null,
   "metadata": {},
   "outputs": [],
   "source": [
    "%%bash\n",
    "# Setup python so it sees the task module which controls the model.py\n",
    "#RUNNING locally\n",
    "export PYTHONPATH=${PYTHONPATH}:${PWD}/${MODEL_NAME}\n",
    "\n",
    "python -m trainer.task"
   ]
  },
  {
   "cell_type": "code",
   "execution_count": null,
   "metadata": {},
   "outputs": [],
   "source": [
    "%%bash\n",
    "export PYTHONPATH=${PYTHONPATH}:${PWD}/trainer\n",
    "echo $PYTHONPATH"
   ]
  },
  {
   "cell_type": "code",
   "execution_count": null,
   "metadata": {},
   "outputs": [],
   "source": [
    "%%bash\n",
    "#running locally using ai platform\n",
    "OUTDIR= ${PWD}/cloudmlemodels"
   ]
  },
  {
   "cell_type": "code",
   "execution_count": null,
   "metadata": {
    "scrolled": true
   },
   "outputs": [],
   "source": [
    "%%bash\n",
    "#running locally using ai platform\n",
    "#OUTDIR= ${PWD}/cloudmlemodels\n",
    "export PYTHONPATH=${PYTHONPATH}:${PWD}/trainer\n",
    "gcloud ai-platform local train \\\n",
    "   --module-name=trainer.task \\\n",
    "   --package-path=${PWD}/trainer \\\n",
    "   -- \\\n",
    "   --train_dir=${PWD}/final_data/df_train.csv \\\n",
    "   --valid_dir=${PWD}/final_data/df_valid.csv  \\\n",
    "   --job-dir=${PWD}/cloudmlemodels \\\n",
    "   --OUTDIR=${PWD}/cloudmlemodels"
   ]
  },
  {
   "cell_type": "code",
   "execution_count": null,
   "metadata": {},
   "outputs": [],
   "source": [
    "%%bash\n",
    "\n",
    "OUTDIR=gs://${BUCKET}/final_model\n",
    "echo $OUTDIR\n",
    "#--staging-bucket=gs://$BUCKET \\"
   ]
  },
  {
   "cell_type": "code",
   "execution_count": null,
   "metadata": {},
   "outputs": [],
   "source": [
    "%%bash\n",
    "#hptuning on cloudml\n",
    "#make sure all data is in buckets.\n",
    "OUTDIR=gs://${BUCKET}/${TRAINING_DIR}\n",
    "JOBNAME=${MODEL_NAME}_$(date -u +%y%m%d_%H%M%S)\n",
    "export PYTHONPATH=${PYTHONPATH}:${PWD}/trainer\n",
    "gcloud ai-platform jobs submit training $JOBNAME \\\n",
    "   --config=hyperparam.yaml \\\n",
    "   --module-name=trainer.task \\\n",
    "   --package-path=$(pwd)/trainer \\\n",
    "   --job-dir=$OUTDIR \\\n",
    "   --runtime-version=1.13 \\\n",
    "   --python-version 3.5 \\\n",
    "   --scale-tier=STANDARD_1 \\\n",
    "   --region=$REGION \\\n",
    "   --\\\n",
    "   --output_dir=$OUTDIR \\"
   ]
  },
  {
   "cell_type": "code",
   "execution_count": null,
   "metadata": {},
   "outputs": [],
   "source": [
    "%%bash\n",
    "#Submitting job without hptuning\n",
    "OUTDIR=gs://${BUCKET}/final_model2\n",
    "JOBNAME=${MODEL_NAME}_$(date -u +%y%m%d_%H%M%S)\n",
    "export PYTHONPATH=${PYTHONPATH}:${PWD}/trainer\n",
    "gcloud ai-platform jobs submit training $JOBNAME \\\n",
    "   --module-name=trainer.task \\\n",
    "   --package-path=$(pwd)/trainer \\\n",
    "   --job-dir=$OUTDIR \\\n",
    "   --runtime-version=1.13 \\\n",
    "   --python-version 3.5 \\\n",
    "   --scale-tier=STANDARD_1 \\\n",
    "   --region=$REGION \\\n",
    "   --\\\n",
    "   --output_dir=$OUTDIR \\"
   ]
  },
  {
   "cell_type": "code",
   "execution_count": null,
   "metadata": {},
   "outputs": [],
   "source": [
    "import pandas as pd\n",
    "df_train=pd.read_csv(\"./final_data2/df_valid.csv\")"
   ]
  },
  {
   "cell_type": "code",
   "execution_count": null,
   "metadata": {},
   "outputs": [],
   "source": [
    "%%bash\n",
    "gsutil ls gs://${BUCKET}/my_local_model/cloudmlemodels/export/exporter | tail -1"
   ]
  },
  {
   "cell_type": "code",
   "execution_count": null,
   "metadata": {
    "scrolled": true
   },
   "outputs": [],
   "source": [
    "%%bash\n",
    "MODEL_LOCATION=$(gsutil ls gs://${BUCKET}/final_model2/export/exporter | tail -1)\n",
    "echo $MODEL_LOCATION"
   ]
  },
  {
   "cell_type": "code",
   "execution_count": null,
   "metadata": {},
   "outputs": [],
   "source": [
    "%%bash\n",
    "echo $REGION"
   ]
  },
  {
   "cell_type": "code",
   "execution_count": null,
   "metadata": {},
   "outputs": [],
   "source": [
    "%%bash\n",
    "MODEL_NAME=\"virality_punjabkesri\"\n",
    "MODEL_VERSION=\"v4\"#enter new version\n",
    "MODEL_LOCATION=$(gsutil ls gs://${BUCKET}/my_local_model/cloudmlemodels/export/exporter | tail -1)\n",
    "#echo \"Deleting and deploying $MODEL_NAME $MODEL_VERSION from $MODEL_LOCATION ... this will take a few minutes\"\n",
    "#gcloud ml-engine versions delete ${MODEL_VERSION} --model ${MODEL_NAME}\n",
    "#gcloud ml-engine models delete ${MODEL_NAME}\n",
    "#gcloud ai-platform models create ${MODEL_NAME} --regions=\"asia-northeast1\"\n",
    "gcloud ai-platform versions create ${MODEL_VERSION} --model ${MODEL_NAME} \\\n",
    "--origin ${MODEL_LOCATION} --runtime-version $TFVERSION --python-version=3.5\n"
   ]
  },
  {
   "cell_type": "code",
   "execution_count": null,
   "metadata": {},
   "outputs": [],
   "source": [
    "#getting predictions from deployed model\n",
    "from oauth2client.client import GoogleCredentials\n",
    "import requests\n",
    "import json\n",
    "\n",
    "MODEL_NAME = \"virality_punjabkesri\"\n",
    "MODEL_VERSION = 'v4'\n",
    "PROJECT = \"tatvic-gcp-dev-team\" \n",
    "token = GoogleCredentials.get_application_default().get_access_token().access_token\n",
    "api = 'https://ml.googleapis.com/v1/projects/{}/models/{}/versions/{}:predict' \\\n",
    "         .format(PROJECT, MODEL_NAME, MODEL_VERSION)\n",
    "headers = {'Authorization': 'Bearer ' + token }\n",
    "data = {\n",
    "  'instances': [\n",
    "     {'0': 0.0035658744,\n",
    " '1': 0.004414475,\n",
    " '10': 0.0018055257,\n",
    " '11': 0.0014781109,\n",
    " '12': 0.0025544928,\n",
    " '13': 0.004745611,\n",
    " '14': 0.2856712,\n",
    " '2': 0.0020961564,\n",
    " '3': 0.0041580633,\n",
    " '4': 0.5815388,\n",
    " '5': 0.0034491895,\n",
    " '6': 0.002489877,\n",
    " '7': 0.0061961785,\n",
    " '8': 0.0018793311,\n",
    " '9': 0.09395714,\n",
    " 'cat': 'sports',\n",
    " 'hour': 0,\n",
    " 'length': 302,\n",
    " 'msaav10': 370.6,\n",
    " 'num_of_identities': 4,\n",
    " 'num_of_sentences': 3,\n",
    " 'other_entities': 0,\n",
    " 'polarity': 0.10714285714285714,\n",
    " 'subjectivity': 0.5714285714285714,\n",
    " 'weekday': 1,\n",
    " \"upv3hr\":55\n",
    "     }]\n",
    "}\n",
    "response = requests.post(api, json=data, headers=headers)\n",
    "print(response.content)"
   ]
  },
  {
   "cell_type": "code",
   "execution_count": null,
   "metadata": {},
   "outputs": [],
   "source": [
    "print(response.content)"
   ]
  },
  {
   "cell_type": "code",
   "execution_count": null,
   "metadata": {},
   "outputs": [],
   "source": [
    "#running locally\n",
    "%%bash\n",
    "\n",
    "python -m trainer.task --OUTDIR=\"./cloudmlemodels\""
   ]
  }
 ],
 "metadata": {
  "kernelspec": {
   "display_name": "Python 3",
   "language": "python",
   "name": "python3"
  },
  "language_info": {
   "codemirror_mode": {
    "name": "ipython",
    "version": 3
   },
   "file_extension": ".py",
   "mimetype": "text/x-python",
   "name": "python",
   "nbconvert_exporter": "python",
   "pygments_lexer": "ipython3",
   "version": "3.5.3"
  }
 },
 "nbformat": 4,
 "nbformat_minor": 2
}
