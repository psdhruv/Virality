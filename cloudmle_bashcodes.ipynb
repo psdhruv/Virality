{
 "cells": [
  {
   "cell_type": "code",
   "execution_count": 65,
   "metadata": {},
   "outputs": [],
   "source": [
    "import os\n",
    "PROJECT = \"tatvic-gcp-dev-team\" # REPLACE WITH YOUR PROJECT ID\n",
    "BUCKET = 'data-etl-process1' # REPLACE WITH YOUR BUCKET NAME\n",
    "REGION = 'asia-east1' # REPLACE WITH YOUR BUCKET REGION e.g. us-central1\n",
    "\n"
   ]
  },
  {
   "cell_type": "code",
   "execution_count": 138,
   "metadata": {},
   "outputs": [],
   "source": [
    "# For Python Code\n",
    "# Model Info\n",
    "MODEL_NAME = 'virality'\n",
    "# Model Version\n",
    "MODEL_VERSION = 'v1'\n",
    "# Training Directory name\n",
    "TRAINING_DIR = 'cloudmlemodels'\n",
    "\n",
    "os.environ['PROJECT'] = PROJECT\n",
    "os.environ['BUCKET'] = BUCKET\n",
    "os.environ['REGION'] = REGION\n",
    "os.environ['MODEL_NAME'] = MODEL_NAME\n",
    "os.environ['MODEL_VERSION'] = MODEL_VERSION\n",
    "os.environ['TRAINING_DIR'] = TRAINING_DIR \n",
    "os.environ['TFVERSION'] = '1.13'  # Tensorflow version"
   ]
  },
  {
   "cell_type": "code",
   "execution_count": 67,
   "metadata": {},
   "outputs": [
    {
     "name": "stderr",
     "output_type": "stream",
     "text": [
      "Updated property [core/project].\n",
      "Updated property [compute/region].\n"
     ]
    }
   ],
   "source": [
    "%%bash\n",
    "gcloud config set project $PROJECT\n",
    "gcloud config set compute/region $REGION"
   ]
  },
  {
   "cell_type": "code",
   "execution_count": 68,
   "metadata": {
    "collapsed": true
   },
   "outputs": [
    {
     "name": "stdout",
     "output_type": "stream",
     "text": [
      "Getting the service account email associated with the Cloud Machine Learning Engine API\n",
      "Authorizing the Cloud ML Service account service-166802608223@cloud-ml.google.com.iam.gserviceaccount.com to access files in data-etl-process1\n"
     ]
    },
    {
     "name": "stderr",
     "output_type": "stream",
     "text": [
      "  % Total    % Received % Xferd  Average Speed   Time    Time     Time  Current\n",
      "                                 Dload  Upload   Total   Spent    Left  Speed\n",
      "\r",
      "  0     0    0     0    0     0      0      0 --:--:-- --:--:-- --:--:--     0\r",
      "  0     0    0     0    0     0      0      0 --:--:--  0:00:01 --:--:--     0\r",
      "100   235    0   235    0     0    118      0 --:--:--  0:00:01 --:--:--   118\r",
      "100   235    0   235    0     0    118      0 --:--:--  0:00:01 --:--:--   118\n",
      "No changes to gs://data-etl-process1/\n",
      "No changes to gs://data-etl-process1/all_articles_with_features.pickle\n",
      "No changes to gs://data-etl-process1/articles_topics.csv\n",
      "No changes to gs://data-etl-process1/category_id.pickle\n",
      "No changes to gs://data-etl-process1/feed_data5.pickle\n",
      "No changes to gs://data-etl-process1/final_views_data.xlsx\n",
      "No changes to gs://data-etl-process1/Arti_info/april1.xlsx\n",
      "No changes to gs://data-etl-process1/Arti_info/april3.xlsx\n",
      "No changes to gs://data-etl-process1/Arti_info/dec1.xlsx\n",
      "No changes to gs://data-etl-process1/Arti_info/april2.xlsx\n",
      "No changes to gs://data-etl-process1/Arti_info/dec3.xlsx\n",
      "No changes to gs://data-etl-process1/Arti_info/feb1.xlsx\n",
      "No changes to gs://data-etl-process1/Arti_info/jan1.xlsx\n",
      "No changes to gs://data-etl-process1/Arti_info/march1.xlsx\n",
      "No changes to gs://data-etl-process1/Arti_info/dec2.xlsx\n",
      "No changes to gs://data-etl-process1/Arti_info/jan2.xlsx\n",
      "No changes to gs://data-etl-process1/Arti_info/march2.xlsx\n",
      "No changes to gs://data-etl-process1/Arti_info/march3.xlsx\n",
      "No changes to gs://data-etl-process1/Arti_info/jan3.xlsx\n",
      "No changes to gs://data-etl-process1/Arti_info/may1.xlsx\n",
      "No changes to gs://data-etl-process1/hadoop/\n",
      "No changes to gs://data-etl-process1/hadoop/Articlespk/april1_trans.xlsx\n",
      "No changes to gs://data-etl-process1/hadoop/Articlespk/april2_trans.xlsx\n",
      "No changes to gs://data-etl-process1/hadoop/Articlespk/april3_trans.xlsx\n",
      "No changes to gs://data-etl-process1/hadoop/Articlespk/dec1_trans.xlsx\n",
      "No changes to gs://data-etl-process1/hadoop/Articlespk/dec2_trans.xlsx\n",
      "No changes to gs://data-etl-process1/hadoop/Articlespk/dec3_trans.xlsx\n",
      "No changes to gs://data-etl-process1/hadoop/Articlespk/feb1.xlsx\n",
      "No changes to gs://data-etl-process1/hadoop/Articlespk/feb2.xlsx\n",
      "No changes to gs://data-etl-process1/hadoop/Articlespk/feb3.xlsx\n",
      "No changes to gs://data-etl-process1/hadoop/Articlespk/jan1_trans.xlsx\n",
      "No changes to gs://data-etl-process1/hadoop/Articlespk/jan2_trans.xlsx\n",
      "No changes to gs://data-etl-process1/hadoop/Articlespk/jan3_trans.xlsx\n",
      "No changes to gs://data-etl-process1/hadoop/Articlespk/march1_trans.xlsx\n",
      "No changes to gs://data-etl-process1/hadoop/Articlespk/march2_trans.xlsx\n",
      "No changes to gs://data-etl-process1/hadoop/Articlespk/march3_trans.xlsx\n",
      "No changes to gs://data-etl-process1/hadoop/Articlespk/may1.xlsx\n",
      "No changes to gs://data-etl-process1/hadoop/Articlespk/may2.xlsx\n",
      "No changes to gs://data-etl-process1/hadoop/Articlespk/may3.xlsx\n",
      "No changes to gs://data-etl-process1/hadoop/input/\n",
      "No changes to gs://data-etl-process1/hadoop/input/34a5c9b5-bcf7-4329-a403-069034e08b0b/\n",
      "No changes to gs://data-etl-process1/hadoop/input/40968366-3c9c-4e69-b767-ab8b10ac2747/\n",
      "Updated ACL on gs://data-etl-process1/cloudmlemodels/\n",
      "Updated ACL on gs://data-etl-process1/cloudmlemodels/model.ckpt-0.data-00001-of-00002\n",
      "Updated ACL on gs://data-etl-process1/cloudmlemodels/graph.pbtxt\n",
      "Updated ACL on gs://data-etl-process1/cloudmlemodels/model.ckpt-0.index\n",
      "No changes to gs://data-etl-process1/hadoop/input/c3337ca0-d68d-4622-abeb-4fa13bc2e4a7/\n",
      "Updated ACL on gs://data-etl-process1/cloudmlemodels/events.out.tfevents.1562483828.cmle-training-8470026894448764249\n",
      "No changes to gs://data-etl-process1/virality/.ipynb_checkpoints/Topic_modeling-checkpoint.ipynb\n",
      "No changes to gs://data-etl-process1/virality/.ipynb_checkpoints/doc2vec-checkpoint.ipynb\n",
      "No changes to gs://data-etl-process1/virality/.ipynb_checkpoints/dnnregressor-checkpoint.ipynb\n",
      "No changes to gs://data-etl-process1/virality/.ipynb_checkpoints/model-checkpoint.ipynb\n",
      "No changes to gs://data-etl-process1/virality/.ipynb_checkpoints/lda_unseen-checkpoint.ipynb\n",
      "No changes to gs://data-etl-process1/virality/Articlespk/april1_trans.xlsx\n",
      "No changes to gs://data-etl-process1/virality/Articlespk/april3_trans.xlsx\n",
      "No changes to gs://data-etl-process1/virality/.ipynb_checkpoints/cloudmle-checkpoint.ipynb\n",
      "No changes to gs://data-etl-process1/virality/Articlespk/april2_trans.xlsx\n",
      "No changes to gs://data-etl-process1/virality/.ipynb_checkpoints/task-checkpoint.ipynb\n",
      "No changes to gs://data-etl-process1/virality/Articlespk/dec3_trans.xlsx\n",
      "No changes to gs://data-etl-process1/virality/Articlespk/dec1_trans.xlsx\n",
      "No changes to gs://data-etl-process1/virality/Articlespk/feb1.xlsx\n",
      "No changes to gs://data-etl-process1/virality/Articlespk/dec2_trans.xlsx\n",
      "No changes to gs://data-etl-process1/virality/Articlespk/feb3.xlsx\n",
      "No changes to gs://data-etl-process1/virality/Articlespk/feb2.xlsx\n",
      "No changes to gs://data-etl-process1/virality/Articlespk/jan1_trans.xlsx\n",
      "No changes to gs://data-etl-process1/virality/Articlespk/jan2_trans.xlsx\n",
      "Updated ACL on gs://data-etl-process1/cloudmlemodels/events.out.tfevents.1562436359.cmle-training-1248846129980704759\n",
      "Updated ACL on gs://data-etl-process1/cloudmlemodels/model.ckpt-0.meta\n",
      "No changes to gs://data-etl-process1/virality/Articlespk/jan3_trans.xlsx\n",
      "No changes to gs://data-etl-process1/virality/Articlespk/may1.xlsx\n",
      "No changes to gs://data-etl-process1/virality/Articlespk/march2_trans.xlsx\n",
      "No changes to gs://data-etl-process1/virality/Articlespk/march1_trans.xlsx\n",
      "No changes to gs://data-etl-process1/virality/Articlespk/march3_trans.xlsx\n",
      "No changes to gs://data-etl-process1/virality/Articlespk/may2.xlsx\n",
      "No changes to gs://data-etl-process1/virality/Articlespk/may3.xlsx\n",
      "No changes to gs://data-etl-process1/virality/Topic_modeling.ipynb\n",
      "No changes to gs://data-etl-process1/virality/category_id.pickle\n",
      "Updated ACL on gs://data-etl-process1/cloudmlemodels/model.ckpt-0.data-00000-of-00002\n",
      "No changes to gs://data-etl-process1/virality/cloudmle.ipynb\n",
      "No changes to gs://data-etl-process1/virality/data2.pickle\n",
      "No changes to gs://data-etl-process1/virality/dnnregressor.ipynb\n",
      "No changes to gs://data-etl-process1/virality/feed_data8.pickle\n",
      "No changes to gs://data-etl-process1/virality/doc2vec.ipynb\n",
      "No changes to gs://data-etl-process1/virality/feed_data5.pickle\n",
      "No changes to gs://data-etl-process1/virality/final_data/df_train.csv\n",
      "No changes to gs://data-etl-process1/virality/final_views_data.xlsx\n",
      "No changes to gs://data-etl-process1/virality/final_data/df_valid.csv\n",
      "No changes to gs://data-etl-process1/virality/id_topics.pickle\n",
      "No changes to gs://data-etl-process1/virality/lda_model_data/bigram_model\n",
      "No changes to gs://data-etl-process1/virality/lda_model_data/doc2vec_model\n",
      "No changes to gs://data-etl-process1/virality/lda_model_data/corpus_list.pickle\n",
      "No changes to gs://data-etl-process1/virality/lda_model_data/id2word_dict.pickle\n",
      "No changes to gs://data-etl-process1/virality/lda_model_data/data.pickle\n",
      "No changes to gs://data-etl-process1/virality/lda_model_data/lda15top.expElogbeta.npy\n",
      "No changes to gs://data-etl-process1/virality/lda_model_data/lda15top\n",
      "No changes to gs://data-etl-process1/virality/lda_model_data/lda15top.id2word\n",
      "No changes to gs://data-etl-process1/virality/lda_unseen.ipynb\n",
      "No changes to gs://data-etl-process1/virality/lda_model_data/lda15top.state\n",
      "No changes to gs://data-etl-process1/virality/model.ipynb\n",
      "No changes to gs://data-etl-process1/virality/lda_model_data/trigram_model\n",
      "Updated ACL on gs://data-etl-process1/cloudmlemodels/checkpoint\n",
      "No changes to gs://data-etl-process1/virality/task.ipynb\n",
      "No changes to gs://data-etl-process1/virality_190706_175833/f534994d9b4bb43de1cae0d21ed7bad4b10927860b76fd858ed32ccc00964c7e/trainer-0.0.0.tar.gz\n",
      "No changes to gs://data-etl-process1/virality_190706_180048/0f4850da9b42e02fd485f79483492f1ae71796e3738efcae1ec5742c0eaa394d/trainer-0.0.0.tar.gz\n",
      "No changes to gs://data-etl-process1/virality_190706_180132/a3b8f80a2b79e7d7e107bc78acdfd3c393e4bb6cea4b31a681fc25992c672c45/trainer-0.0.0.tar.gz\n",
      "No changes to gs://data-etl-process1/virality_190706_180224/7fcd6480cff9fcfa6d6d52625cd962ecd6f3ac5318217f99d332ba88a31e2f6a/trainer-0.0.0.tar.gz\n",
      "No changes to gs://data-etl-process1/virality_190706_180311/ccfb74424106ab678cd60783af65b67c7e8b3b51e1c61b4e717d4623d5e43e83/trainer-0.0.0.tar.gz\n",
      "No changes to gs://data-etl-process1/virality_190707_071403/d430f7ebd387ea37cdf672e6b1624e1b86709c766b2199aaa8ab3ac17671b7ac/trainer-0.0.0.tar.gz\n",
      "No changes to gs://data-etl-process1/\n"
     ]
    }
   ],
   "source": [
    "%%bash\n",
    "# This command will fail if the Cloud Machine Learning Engine API is not enabled using the link above.\n",
    "echo \"Getting the service account email associated with the Cloud Machine Learning Engine API\"\n",
    "\n",
    "AUTH_TOKEN=$(gcloud auth print-access-token)\n",
    "SVC_ACCOUNT=$(curl -X GET -H \"Content-Type: application/json\" \\\n",
    "    -H \"Authorization: Bearer $AUTH_TOKEN\" \\\n",
    "    https://ml.googleapis.com/v1/projects/${PROJECT}:getConfig \\\n",
    "    | python -c \"import json; import sys; response = json.load(sys.stdin); \\\n",
    "    print (response['serviceAccount'])\")  # If this command fails, the Cloud Machine Learning Engine API has not been enabled above.\n",
    "\n",
    "echo \"Authorizing the Cloud ML Service account $SVC_ACCOUNT to access files in $BUCKET\"\n",
    "gsutil -m defacl ch -u $SVC_ACCOUNT:R gs://$BUCKET   \n",
    "gsutil -m acl ch -u $SVC_ACCOUNT:R -r gs://$BUCKET   # error message (if bucket is empty) can be ignored.  \n",
    "gsutil -m acl ch -u $SVC_ACCOUNT:W gs://$BUCKET"
   ]
  },
  {
   "cell_type": "code",
   "execution_count": 71,
   "metadata": {},
   "outputs": [
    {
     "data": {
      "text/plain": [
       "'tatvic-gcp-dev-team'"
      ]
     },
     "execution_count": 71,
     "metadata": {},
     "output_type": "execute_result"
    }
   ],
   "source": [
    "#%%bash\n",
    "# This is so that the trained model is started fresh each time. However, this needs to be done before \n",
    "# tensorboard is started\n",
    "\n",
    "#echo $OUTDIR $REGION $JOBNAME\n",
    "os.environ[\"PROJECT\"]\n",
    "\n"
   ]
  },
  {
   "cell_type": "code",
   "execution_count": null,
   "metadata": {},
   "outputs": [],
   "source": [
    "%%bash\n",
    "# Setup python so it sees the task module which controls the model.py\n",
    "#RUNNING locally\n",
    "export PYTHONPATH=${PYTHONPATH}:${PWD}/${MODEL_NAME}\n",
    "\n",
    "python -m trainer.task"
   ]
  },
  {
   "cell_type": "code",
   "execution_count": 73,
   "metadata": {},
   "outputs": [
    {
     "name": "stdout",
     "output_type": "stream",
     "text": [
      ":/home/psdhruv/virality/trainer\n"
     ]
    }
   ],
   "source": [
    "%%bash\n",
    "export PYTHONPATH=${PYTHONPATH}:${PWD}/trainer\n",
    "echo $PYTHONPATH"
   ]
  },
  {
   "cell_type": "code",
   "execution_count": 81,
   "metadata": {
    "collapsed": true
   },
   "outputs": [
    {
     "name": "stderr",
     "output_type": "stream",
     "text": [
      "bash: line 2: /home/psdhruv/virality/cloudmlemodels: Is a directory\n"
     ]
    },
    {
     "ename": "CalledProcessError",
     "evalue": "Command 'b'#running locally using ai platform\\nOUTDIR= ${PWD}/cloudmlemodels\\n'' returned non-zero exit status 126",
     "output_type": "error",
     "traceback": [
      "\u001b[0;31m---------------------------------------------------------------------------\u001b[0m",
      "\u001b[0;31mCalledProcessError\u001b[0m                        Traceback (most recent call last)",
      "\u001b[0;32m<ipython-input-81-fe9ef72d2ac4>\u001b[0m in \u001b[0;36m<module>\u001b[0;34m\u001b[0m\n\u001b[0;32m----> 1\u001b[0;31m \u001b[0mget_ipython\u001b[0m\u001b[0;34m(\u001b[0m\u001b[0;34m)\u001b[0m\u001b[0;34m.\u001b[0m\u001b[0mrun_cell_magic\u001b[0m\u001b[0;34m(\u001b[0m\u001b[0;34m'bash'\u001b[0m\u001b[0;34m,\u001b[0m \u001b[0;34m''\u001b[0m\u001b[0;34m,\u001b[0m \u001b[0;34m'#running locally using ai platform\\nOUTDIR= ${PWD}/cloudmlemodels\\n'\u001b[0m\u001b[0;34m)\u001b[0m\u001b[0;34m\u001b[0m\u001b[0m\n\u001b[0m",
      "\u001b[0;32m~/python-environments/env3/lib/python3.5/site-packages/IPython/core/interactiveshell.py\u001b[0m in \u001b[0;36mrun_cell_magic\u001b[0;34m(self, magic_name, line, cell)\u001b[0m\n\u001b[1;32m   2350\u001b[0m             \u001b[0;32mwith\u001b[0m \u001b[0mself\u001b[0m\u001b[0;34m.\u001b[0m\u001b[0mbuiltin_trap\u001b[0m\u001b[0;34m:\u001b[0m\u001b[0;34m\u001b[0m\u001b[0m\n\u001b[1;32m   2351\u001b[0m                 \u001b[0margs\u001b[0m \u001b[0;34m=\u001b[0m \u001b[0;34m(\u001b[0m\u001b[0mmagic_arg_s\u001b[0m\u001b[0;34m,\u001b[0m \u001b[0mcell\u001b[0m\u001b[0;34m)\u001b[0m\u001b[0;34m\u001b[0m\u001b[0m\n\u001b[0;32m-> 2352\u001b[0;31m                 \u001b[0mresult\u001b[0m \u001b[0;34m=\u001b[0m \u001b[0mfn\u001b[0m\u001b[0;34m(\u001b[0m\u001b[0;34m*\u001b[0m\u001b[0margs\u001b[0m\u001b[0;34m,\u001b[0m \u001b[0;34m**\u001b[0m\u001b[0mkwargs\u001b[0m\u001b[0;34m)\u001b[0m\u001b[0;34m\u001b[0m\u001b[0m\n\u001b[0m\u001b[1;32m   2353\u001b[0m             \u001b[0;32mreturn\u001b[0m \u001b[0mresult\u001b[0m\u001b[0;34m\u001b[0m\u001b[0m\n\u001b[1;32m   2354\u001b[0m \u001b[0;34m\u001b[0m\u001b[0m\n",
      "\u001b[0;32m~/python-environments/env3/lib/python3.5/site-packages/IPython/core/magics/script.py\u001b[0m in \u001b[0;36mnamed_script_magic\u001b[0;34m(line, cell)\u001b[0m\n\u001b[1;32m    140\u001b[0m             \u001b[0;32melse\u001b[0m\u001b[0;34m:\u001b[0m\u001b[0;34m\u001b[0m\u001b[0m\n\u001b[1;32m    141\u001b[0m                 \u001b[0mline\u001b[0m \u001b[0;34m=\u001b[0m \u001b[0mscript\u001b[0m\u001b[0;34m\u001b[0m\u001b[0m\n\u001b[0;32m--> 142\u001b[0;31m             \u001b[0;32mreturn\u001b[0m \u001b[0mself\u001b[0m\u001b[0;34m.\u001b[0m\u001b[0mshebang\u001b[0m\u001b[0;34m(\u001b[0m\u001b[0mline\u001b[0m\u001b[0;34m,\u001b[0m \u001b[0mcell\u001b[0m\u001b[0;34m)\u001b[0m\u001b[0;34m\u001b[0m\u001b[0m\n\u001b[0m\u001b[1;32m    143\u001b[0m \u001b[0;34m\u001b[0m\u001b[0m\n\u001b[1;32m    144\u001b[0m         \u001b[0;31m# write a basic docstring:\u001b[0m\u001b[0;34m\u001b[0m\u001b[0;34m\u001b[0m\u001b[0m\n",
      "\u001b[0;32m</home/psdhruv/python-environments/env3/lib/python3.5/site-packages/decorator.py:decorator-gen-110>\u001b[0m in \u001b[0;36mshebang\u001b[0;34m(self, line, cell)\u001b[0m\n",
      "\u001b[0;32m~/python-environments/env3/lib/python3.5/site-packages/IPython/core/magic.py\u001b[0m in \u001b[0;36m<lambda>\u001b[0;34m(f, *a, **k)\u001b[0m\n\u001b[1;32m    185\u001b[0m     \u001b[0;31m# but it's overkill for just that one bit of state.\u001b[0m\u001b[0;34m\u001b[0m\u001b[0;34m\u001b[0m\u001b[0m\n\u001b[1;32m    186\u001b[0m     \u001b[0;32mdef\u001b[0m \u001b[0mmagic_deco\u001b[0m\u001b[0;34m(\u001b[0m\u001b[0marg\u001b[0m\u001b[0;34m)\u001b[0m\u001b[0;34m:\u001b[0m\u001b[0;34m\u001b[0m\u001b[0m\n\u001b[0;32m--> 187\u001b[0;31m         \u001b[0mcall\u001b[0m \u001b[0;34m=\u001b[0m \u001b[0;32mlambda\u001b[0m \u001b[0mf\u001b[0m\u001b[0;34m,\u001b[0m \u001b[0;34m*\u001b[0m\u001b[0ma\u001b[0m\u001b[0;34m,\u001b[0m \u001b[0;34m**\u001b[0m\u001b[0mk\u001b[0m\u001b[0;34m:\u001b[0m \u001b[0mf\u001b[0m\u001b[0;34m(\u001b[0m\u001b[0;34m*\u001b[0m\u001b[0ma\u001b[0m\u001b[0;34m,\u001b[0m \u001b[0;34m**\u001b[0m\u001b[0mk\u001b[0m\u001b[0;34m)\u001b[0m\u001b[0;34m\u001b[0m\u001b[0m\n\u001b[0m\u001b[1;32m    188\u001b[0m \u001b[0;34m\u001b[0m\u001b[0m\n\u001b[1;32m    189\u001b[0m         \u001b[0;32mif\u001b[0m \u001b[0mcallable\u001b[0m\u001b[0;34m(\u001b[0m\u001b[0marg\u001b[0m\u001b[0;34m)\u001b[0m\u001b[0;34m:\u001b[0m\u001b[0;34m\u001b[0m\u001b[0m\n",
      "\u001b[0;32m~/python-environments/env3/lib/python3.5/site-packages/IPython/core/magics/script.py\u001b[0m in \u001b[0;36mshebang\u001b[0;34m(self, line, cell)\u001b[0m\n\u001b[1;32m    243\u001b[0m             \u001b[0msys\u001b[0m\u001b[0;34m.\u001b[0m\u001b[0mstderr\u001b[0m\u001b[0;34m.\u001b[0m\u001b[0mflush\u001b[0m\u001b[0;34m(\u001b[0m\u001b[0;34m)\u001b[0m\u001b[0;34m\u001b[0m\u001b[0m\n\u001b[1;32m    244\u001b[0m         \u001b[0;32mif\u001b[0m \u001b[0margs\u001b[0m\u001b[0;34m.\u001b[0m\u001b[0mraise_error\u001b[0m \u001b[0;32mand\u001b[0m \u001b[0mp\u001b[0m\u001b[0;34m.\u001b[0m\u001b[0mreturncode\u001b[0m\u001b[0;34m!=\u001b[0m\u001b[0;36m0\u001b[0m\u001b[0;34m:\u001b[0m\u001b[0;34m\u001b[0m\u001b[0m\n\u001b[0;32m--> 245\u001b[0;31m             \u001b[0;32mraise\u001b[0m \u001b[0mCalledProcessError\u001b[0m\u001b[0;34m(\u001b[0m\u001b[0mp\u001b[0m\u001b[0;34m.\u001b[0m\u001b[0mreturncode\u001b[0m\u001b[0;34m,\u001b[0m \u001b[0mcell\u001b[0m\u001b[0;34m,\u001b[0m \u001b[0moutput\u001b[0m\u001b[0;34m=\u001b[0m\u001b[0mout\u001b[0m\u001b[0;34m,\u001b[0m \u001b[0mstderr\u001b[0m\u001b[0;34m=\u001b[0m\u001b[0merr\u001b[0m\u001b[0;34m)\u001b[0m\u001b[0;34m\u001b[0m\u001b[0m\n\u001b[0m\u001b[1;32m    246\u001b[0m \u001b[0;34m\u001b[0m\u001b[0m\n\u001b[1;32m    247\u001b[0m     \u001b[0;32mdef\u001b[0m \u001b[0m_run_script\u001b[0m\u001b[0;34m(\u001b[0m\u001b[0mself\u001b[0m\u001b[0;34m,\u001b[0m \u001b[0mp\u001b[0m\u001b[0;34m,\u001b[0m \u001b[0mcell\u001b[0m\u001b[0;34m,\u001b[0m \u001b[0mto_close\u001b[0m\u001b[0;34m)\u001b[0m\u001b[0;34m:\u001b[0m\u001b[0;34m\u001b[0m\u001b[0m\n",
      "\u001b[0;31mCalledProcessError\u001b[0m: Command 'b'#running locally using ai platform\\nOUTDIR= ${PWD}/cloudmlemodels\\n'' returned non-zero exit status 126"
     ]
    }
   ],
   "source": [
    "%%bash\n",
    "#running locally using ai platform\n",
    "OUTDIR= ${PWD}/cloudmlemodels"
   ]
  },
  {
   "cell_type": "code",
   "execution_count": 82,
   "metadata": {
    "collapsed": true
   },
   "outputs": [
    {
     "name": "stderr",
     "output_type": "stream",
     "text": [
      "WARNING: Logging before flag parsing goes to stderr.\n",
      "W0707 17:07:31.335862 139647895070464 deprecation_wrapper.py:119] From /home/psdhruv/virality/trainer/model.py:10: The name tf.logging.set_verbosity is deprecated. Please use tf.compat.v1.logging.set_verbosity instead.\n",
      "\n",
      "W0707 17:07:31.336189 139647895070464 deprecation_wrapper.py:119] From /home/psdhruv/virality/trainer/model.py:10: The name tf.logging.INFO is deprecated. Please use tf.compat.v1.logging.INFO instead.\n",
      "\n",
      "I0707 17:07:31.338058 139647895070464 run_config.py:528] TF_CONFIG environment variable: {'job': {'args': ['--train_dir=/home/psdhruv/virality/final_data/df_train.csv', '--valid_dir=/home/psdhruv/virality/final_data/df_valid.csv', '--job-dir=/home/psdhruv/virality/cloudmlemodels', '--OUTDIR=/home/psdhruv/virality/cloudmlemodels'], 'job_name': 'trainer.task'}, 'task': {}, 'environment': 'cloud', 'cluster': {}}\n",
      "W0707 17:07:31.338421 139647895070464 deprecation_wrapper.py:119] From /home/psdhruv/virality/trainer/model.py:127: The name tf.summary.FileWriterCache is deprecated. Please use tf.compat.v1.summary.FileWriterCache instead.\n",
      "\n",
      "W0707 17:07:31.339238 139647895070464 deprecation_wrapper.py:119] From /home/psdhruv/virality/trainer/model.py:133: The name tf.train.AdagradOptimizer is deprecated. Please use tf.compat.v1.train.AdagradOptimizer instead.\n",
      "\n",
      "I0707 17:07:31.339967 139647895070464 estimator.py:209] Using config: {'_experimental_distribute': None, '_keep_checkpoint_every_n_hours': 10000, '_save_checkpoints_secs': 5, '_service': None, '_global_id_in_cluster': 0, '_session_config': allow_soft_placement: true\n",
      "graph_options {\n",
      "  rewrite_options {\n",
      "    meta_optimizer_iterations: ONE\n",
      "  }\n",
      "}\n",
      ", '_evaluation_master': '', '_model_dir': '/home/psdhruv/virality/cloudmlemodels/', '_keep_checkpoint_max': 3, '_is_chief': True, '_experimental_max_worker_delay_secs': None, '_num_ps_replicas': 0, '_master': '', '_tf_random_seed': None, '_protocol': None, '_task_id': 0, '_num_worker_replicas': 1, '_save_checkpoints_steps': None, '_train_distribute': None, '_task_type': 'worker', '_save_summary_steps': 100, '_cluster_spec': <tensorflow.python.training.server_lib.ClusterSpec object at 0x7f0227be1400>, '_log_step_count_steps': 100, '_device_fn': None, '_eval_distribute': None}\n",
      "W0707 17:07:32.119413 139647895070464 lazy_loader.py:50] \n",
      "The TensorFlow contrib module will not be included in TensorFlow 2.0.\n",
      "For more information, please see:\n",
      "  * https://github.com/tensorflow/community/blob/master/rfcs/20180907-contrib-sunset.md\n",
      "  * https://github.com/tensorflow/addons\n",
      "  * https://github.com/tensorflow/io (for I/O related ops)\n",
      "If you depend on functionality not listed there, please file an issue.\n",
      "\n",
      "I0707 17:07:32.120364 139647895070464 estimator.py:209] Using config: {'_experimental_distribute': None, '_keep_checkpoint_every_n_hours': 10000, '_save_checkpoints_secs': 5, '_service': None, '_global_id_in_cluster': 0, '_session_config': allow_soft_placement: true\n",
      "graph_options {\n",
      "  rewrite_options {\n",
      "    meta_optimizer_iterations: ONE\n",
      "  }\n",
      "}\n",
      ", '_evaluation_master': '', '_model_dir': '/home/psdhruv/virality/cloudmlemodels/', '_keep_checkpoint_max': 3, '_is_chief': True, '_experimental_max_worker_delay_secs': None, '_num_ps_replicas': 0, '_master': '', '_tf_random_seed': None, '_protocol': None, '_task_id': 0, '_num_worker_replicas': 1, '_save_checkpoints_steps': None, '_train_distribute': None, '_task_type': 'worker', '_save_summary_steps': 100, '_cluster_spec': <tensorflow.python.training.server_lib.ClusterSpec object at 0x7f0227be17b8>, '_log_step_count_steps': 100, '_device_fn': None, '_eval_distribute': None}\n",
      "I0707 17:07:32.120860 139647895070464 estimator_training.py:186] Not using Distribute Coordinator.\n",
      "I0707 17:07:32.121082 139647895070464 training.py:612] Running training and evaluation locally (non-distributed).\n",
      "I0707 17:07:32.121356 139647895070464 training.py:700] Start train and evaluate loop. The evaluate will happen after every checkpoint. Checkpoint frequency is determined based on RunConfig arguments: save_checkpoints_steps None or save_checkpoints_secs 5.\n",
      "W0707 17:07:32.128494 139647895070464 deprecation.py:323] From /home/psdhruv/python-environments/env3/lib/python3.5/site-packages/tensorflow/python/training/training_util.py:236: Variable.initialized_value (from tensorflow.python.ops.variables) is deprecated and will be removed in a future version.\n",
      "Instructions for updating:\n",
      "Use Variable.read_value. Variables in 2.X are initialized automatically both in eager and graph (inside tf.defun) contexts.\n",
      "W0707 17:07:32.177467 139647895070464 deprecation_wrapper.py:119] From /home/psdhruv/virality/trainer/model.py:25: The name tf.decode_csv is deprecated. Please use tf.io.decode_csv instead.\n",
      "\n",
      "W0707 17:07:32.221605 139647895070464 deprecation.py:323] From /home/psdhruv/python-environments/env3/lib/python3.5/site-packages/tensorflow/python/data/util/random_seed.py:58: add_dispatch_support.<locals>.wrapper (from tensorflow.python.ops.array_ops) is deprecated and will be removed in a future version.\n",
      "Instructions for updating:\n",
      "Use tf.where in 2.0, which has the same broadcast rule as np.where\n",
      "W0707 17:07:32.228435 139647895070464 deprecation.py:323] From /home/psdhruv/virality/trainer/model.py:49: DatasetV1.make_one_shot_iterator (from tensorflow.python.data.ops.dataset_ops) is deprecated and will be removed in a future version.\n",
      "Instructions for updating:\n",
      "Use `for ... in dataset:` to iterate over a dataset. If using `tf.estimator`, return the `Dataset` object directly from your input function. As a last resort, you can use `tf.compat.v1.data.make_one_shot_iterator(dataset)`.\n",
      "I0707 17:07:32.380945 139647895070464 estimator.py:1145] Calling model_fn.\n",
      "I0707 17:07:32.381255 139647895070464 estimator.py:1145] Calling model_fn.\n",
      "W0707 17:07:32.390008 139647895070464 deprecation.py:506] From /home/psdhruv/python-environments/env3/lib/python3.5/site-packages/tensorflow/python/ops/init_ops.py:1251: calling VarianceScaling.__init__ (from tensorflow.python.ops.init_ops) with dtype is deprecated and will be removed in a future version.\n",
      "Instructions for updating:\n",
      "Call initializer instance with the dtype argument instead of passing it to the constructor\n",
      "W0707 17:07:32.621591 139647895070464 deprecation.py:323] From /home/psdhruv/python-environments/env3/lib/python3.5/site-packages/tensorflow/python/feature_column/feature_column_v2.py:3038: VocabularyListCategoricalColumn._num_buckets (from tensorflow.python.feature_column.feature_column_v2) is deprecated and will be removed in a future version.\n",
      "Instructions for updating:\n",
      "The old _FeatureColumn APIs are being deprecated. Please use the new FeatureColumn APIs instead.\n",
      "W0707 17:07:32.988918 139647895070464 deprecation.py:323] From /home/psdhruv/python-environments/env3/lib/python3.5/site-packages/tensorflow/python/feature_column/feature_column_v2.py:4207: IndicatorColumn._variable_shape (from tensorflow.python.feature_column.feature_column_v2) is deprecated and will be removed in a future version.\n",
      "Instructions for updating:\n",
      "The old _FeatureColumn APIs are being deprecated. Please use the new FeatureColumn APIs instead.\n",
      "W0707 17:07:32.989215 139647895070464 deprecation.py:323] From /home/psdhruv/python-environments/env3/lib/python3.5/site-packages/tensorflow/python/feature_column/feature_column_v2.py:4262: BucketizedColumn._num_buckets (from tensorflow.python.feature_column.feature_column_v2) is deprecated and will be removed in a future version.\n",
      "Instructions for updating:\n",
      "The old _FeatureColumn APIs are being deprecated. Please use the new FeatureColumn APIs instead.\n",
      "W0707 17:07:33.084845 139647895070464 deprecation.py:323] From /home/psdhruv/python-environments/env3/lib/python3.5/site-packages/tensorflow/python/feature_column/feature_column_v2.py:4262: IdentityCategoricalColumn._num_buckets (from tensorflow.python.feature_column.feature_column_v2) is deprecated and will be removed in a future version.\n",
      "Instructions for updating:\n",
      "The old _FeatureColumn APIs are being deprecated. Please use the new FeatureColumn APIs instead.\n",
      "W0707 17:07:33.538407 139647895070464 deprecation.py:323] From /home/psdhruv/python-environments/env3/lib/python3.5/site-packages/tensorflow_estimator/python/estimator/canned/head.py:437: to_float (from tensorflow.python.ops.math_ops) is deprecated and will be removed in a future version.\n",
      "Instructions for updating:\n",
      "Use `tf.cast` instead.\n",
      "W0707 17:07:33.805229 139647895070464 deprecation.py:506] From /home/psdhruv/python-environments/env3/lib/python3.5/site-packages/tensorflow/python/training/adagrad.py:76: calling Constant.__init__ (from tensorflow.python.ops.init_ops) with dtype is deprecated and will be removed in a future version.\n",
      "Instructions for updating:\n",
      "Call initializer instance with the dtype argument instead of passing it to the constructor\n",
      "I0707 17:07:33.857967 139647895070464 estimator.py:1147] Done calling model_fn.\n",
      "I0707 17:07:33.858213 139647895070464 estimator.py:1147] Done calling model_fn.\n",
      "I0707 17:07:33.858519 139647895070464 basic_session_run_hooks.py:541] Create CheckpointSaverHook.\n",
      "I0707 17:07:34.121834 139647895070464 monitored_session.py:240] Graph was finalized.\n",
      "2019-07-07 17:07:34.122355: I tensorflow/core/platform/cpu_feature_guard.cc:142] Your CPU supports instructions that this TensorFlow binary was not compiled to use: AVX2 AVX512F FMA\n",
      "2019-07-07 17:07:34.130722: I tensorflow/core/platform/profile_utils/cpu_utils.cc:94] CPU Frequency: 2000155000 Hz\n",
      "2019-07-07 17:07:34.130988: I tensorflow/compiler/xla/service/service.cc:168] XLA service 0x5604ca89bd20 executing computations on platform Host. Devices:\n",
      "2019-07-07 17:07:34.131010: I tensorflow/compiler/xla/service/service.cc:175]   StreamExecutor device (0): <undefined>, <undefined>\n",
      "2019-07-07 17:07:34.189051: W tensorflow/compiler/jit/mark_for_compilation_pass.cc:1412] (One-time warning): Not using XLA:CPU for cluster because envvar TF_XLA_FLAGS=--tf_xla_cpu_global_jit was not set.  If you want XLA:CPU, either set that envvar, or use experimental_jit_scope to enable XLA:CPU.  To confirm that XLA is active, pass --vmodule=xla_compilation_cache=1 (as a proper command-line flag, not via TF_XLA_FLAGS) or set the envvar XLA_FLAGS=--xla_hlo_profile.\n",
      "I0707 17:07:34.223501 139647895070464 session_manager.py:500] Running local_init_op.\n",
      "I0707 17:07:34.243364 139647895070464 session_manager.py:502] Done running local_init_op.\n",
      "I0707 17:07:34.707602 139647895070464 basic_session_run_hooks.py:606] Saving checkpoints for 0 into /home/psdhruv/virality/cloudmlemodels/model.ckpt.\n",
      "I0707 17:07:49.705418 139647895070464 basic_session_run_hooks.py:606] Saving checkpoints for 1 into /home/psdhruv/virality/cloudmlemodels/model.ckpt.\n",
      "I0707 17:07:49.889744 139647895070464 estimator.py:1145] Calling model_fn.\n",
      "I0707 17:07:49.890099 139647895070464 estimator.py:1145] Calling model_fn.\n",
      "I0707 17:07:50.612590 139647895070464 estimator.py:1147] Done calling model_fn.\n",
      "W0707 17:07:50.613010 139647895070464 deprecation_wrapper.py:119] From /home/psdhruv/virality/trainer/model.py:116: The name tf.metrics.root_mean_squared_error is deprecated. Please use tf.compat.v1.metrics.root_mean_squared_error instead.\n",
      "\n",
      "I0707 17:07:50.630402 139647895070464 estimator.py:1147] Done calling model_fn.\n",
      "I0707 17:07:50.650598 139647895070464 evaluation.py:255] Starting evaluation at 2019-07-07T17:07:50Z\n",
      "I0707 17:07:50.767538 139647895070464 monitored_session.py:240] Graph was finalized.\n",
      "W0707 17:07:50.768244 139647895070464 deprecation.py:323] From /home/psdhruv/python-environments/env3/lib/python3.5/site-packages/tensorflow/python/training/saver.py:1276: checkpoint_exists (from tensorflow.python.training.checkpoint_management) is deprecated and will be removed in a future version.\n",
      "Instructions for updating:\n",
      "Use standard file APIs to check for files with this prefix.\n",
      "I0707 17:07:50.769404 139647895070464 saver.py:1280] Restoring parameters from /home/psdhruv/virality/cloudmlemodels/model.ckpt-1\n",
      "I0707 17:07:50.841223 139647895070464 session_manager.py:500] Running local_init_op.\n",
      "I0707 17:07:50.871877 139647895070464 session_manager.py:502] Done running local_init_op.\n",
      "I0707 17:07:52.624180 139647895070464 evaluation.py:275] Finished evaluation at 2019-07-07-17:07:52\n",
      "I0707 17:07:52.624558 139647895070464 estimator.py:2039] Saving dict for global step 1: average_loss = 219431.83, global_step = 1, label/mean = 79.93597, loss = 911519800.0, metric1 = 468.43552, prediction/mean = 200.5679\n",
      "I0707 17:07:52.749043 139647895070464 estimator.py:2099] Saving 'checkpoint_path' summary for global step 1: /home/psdhruv/virality/cloudmlemodels/model.ckpt-1\n",
      "W0707 17:07:52.755457 139647895070464 deprecation_wrapper.py:119] From /home/psdhruv/virality/trainer/model.py:102: The name tf.placeholder is deprecated. Please use tf.compat.v1.placeholder instead.\n",
      "\n",
      "I0707 17:07:52.769882 139647895070464 estimator.py:1145] Calling model_fn.\n",
      "I0707 17:07:52.770172 139647895070464 estimator.py:1145] Calling model_fn.\n",
      "I0707 17:07:53.204243 139647895070464 estimator.py:1147] Done calling model_fn.\n",
      "I0707 17:07:53.204509 139647895070464 estimator.py:1147] Done calling model_fn.\n",
      "W0707 17:07:53.204981 139647895070464 deprecation.py:323] From /home/psdhruv/python-environments/env3/lib/python3.5/site-packages/tensorflow/python/saved_model/signature_def_utils_impl.py:201: build_tensor_info (from tensorflow.python.saved_model.utils_impl) is deprecated and will be removed in a future version.\n",
      "Instructions for updating:\n",
      "This function will only be available through the v1 compatibility library as tf.compat.v1.saved_model.utils.build_tensor_info or tf.compat.v1.saved_model.build_tensor_info.\n",
      "I0707 17:07:53.205796 139647895070464 export_utils.py:170] Signatures INCLUDED in export for Regress: None\n",
      "I0707 17:07:53.205908 139647895070464 export_utils.py:170] Signatures INCLUDED in export for Predict: ['predict']\n",
      "I0707 17:07:53.205990 139647895070464 export_utils.py:170] Signatures INCLUDED in export for Train: None\n",
      "I0707 17:07:53.206059 139647895070464 export_utils.py:170] Signatures INCLUDED in export for Classify: None\n",
      "I0707 17:07:53.206127 139647895070464 export_utils.py:170] Signatures INCLUDED in export for Eval: None\n",
      "I0707 17:07:53.206192 139647895070464 export_utils.py:173] Signatures EXCLUDED from export because they cannot be be served via TensorFlow Serving APIs:\n",
      "I0707 17:07:53.206256 139647895070464 export_utils.py:176] 'regression' : Regression input must be a single string Tensor; got {'num_of_sentences': <tf.Tensor 'Placeholder_3:0' shape=(?,) dtype=float32>, '0': <tf.Tensor 'Placeholder_8:0' shape=(?,) dtype=float32>, 'length': <tf.Tensor 'Placeholder_4:0' shape=(?,) dtype=float32>, '2': <tf.Tensor 'Placeholder_10:0' shape=(?,) dtype=float32>, '14': <tf.Tensor 'Placeholder_22:0' shape=(?,) dtype=float32>, 'msaav10': <tf.Tensor 'Placeholder:0' shape=(?,) dtype=float32>, 'upv3hr': <tf.Tensor 'Placeholder_7:0' shape=(?,) dtype=float32>, '6': <tf.Tensor 'Placeholder_14:0' shape=(?,) dtype=float32>, 'other_entities': <tf.Tensor 'Placeholder_6:0' shape=(?,) dtype=float32>, '1': <tf.Tensor 'Placeholder_9:0' shape=(?,) dtype=float32>, '11': <tf.Tensor 'Placeholder_19:0' shape=(?,) dtype=float32>, '9': <tf.Tensor 'Placeholder_17:0' shape=(?,) dtype=float32>, '3': <tf.Tensor 'Placeholder_11:0' shape=(?,) dtype=float32>, 'num_of_identities': <tf.Tensor 'Placeholder_5:0' shape=(?,) dtype=float32>, 'polarity': <tf.Tensor 'Placeholder_1:0' shape=(?,) dtype=float32>, '10': <tf.Tensor 'Placeholder_18:0' shape=(?,) dtype=float32>, 'cat': <tf.Tensor 'Placeholder_23:0' shape=(?,) dtype=string>, '12': <tf.Tensor 'Placeholder_20:0' shape=(?,) dtype=float32>, '13': <tf.Tensor 'Placeholder_21:0' shape=(?,) dtype=float32>, 'subjectivity': <tf.Tensor 'Placeholder_2:0' shape=(?,) dtype=float32>, 'weekday': <tf.Tensor 'Placeholder_24:0' shape=(?,) dtype=int32>, '4': <tf.Tensor 'Placeholder_12:0' shape=(?,) dtype=float32>, 'hour': <tf.Tensor 'Placeholder_25:0' shape=(?,) dtype=int32>, '8': <tf.Tensor 'Placeholder_16:0' shape=(?,) dtype=float32>, '7': <tf.Tensor 'Placeholder_15:0' shape=(?,) dtype=float32>, '5': <tf.Tensor 'Placeholder_13:0' shape=(?,) dtype=float32>}\n",
      "I0707 17:07:53.206321 139647895070464 export_utils.py:176] 'serving_default' : Regression input must be a single string Tensor; got {'num_of_sentences': <tf.Tensor 'Placeholder_3:0' shape=(?,) dtype=float32>, '0': <tf.Tensor 'Placeholder_8:0' shape=(?,) dtype=float32>, 'length': <tf.Tensor 'Placeholder_4:0' shape=(?,) dtype=float32>, '2': <tf.Tensor 'Placeholder_10:0' shape=(?,) dtype=float32>, '14': <tf.Tensor 'Placeholder_22:0' shape=(?,) dtype=float32>, 'msaav10': <tf.Tensor 'Placeholder:0' shape=(?,) dtype=float32>, 'upv3hr': <tf.Tensor 'Placeholder_7:0' shape=(?,) dtype=float32>, '6': <tf.Tensor 'Placeholder_14:0' shape=(?,) dtype=float32>, 'other_entities': <tf.Tensor 'Placeholder_6:0' shape=(?,) dtype=float32>, '1': <tf.Tensor 'Placeholder_9:0' shape=(?,) dtype=float32>, '11': <tf.Tensor 'Placeholder_19:0' shape=(?,) dtype=float32>, '9': <tf.Tensor 'Placeholder_17:0' shape=(?,) dtype=float32>, '3': <tf.Tensor 'Placeholder_11:0' shape=(?,) dtype=float32>, 'num_of_identities': <tf.Tensor 'Placeholder_5:0' shape=(?,) dtype=float32>, 'polarity': <tf.Tensor 'Placeholder_1:0' shape=(?,) dtype=float32>, '10': <tf.Tensor 'Placeholder_18:0' shape=(?,) dtype=float32>, 'cat': <tf.Tensor 'Placeholder_23:0' shape=(?,) dtype=string>, '12': <tf.Tensor 'Placeholder_20:0' shape=(?,) dtype=float32>, '13': <tf.Tensor 'Placeholder_21:0' shape=(?,) dtype=float32>, 'subjectivity': <tf.Tensor 'Placeholder_2:0' shape=(?,) dtype=float32>, 'weekday': <tf.Tensor 'Placeholder_24:0' shape=(?,) dtype=int32>, '4': <tf.Tensor 'Placeholder_12:0' shape=(?,) dtype=float32>, 'hour': <tf.Tensor 'Placeholder_25:0' shape=(?,) dtype=int32>, '8': <tf.Tensor 'Placeholder_16:0' shape=(?,) dtype=float32>, '7': <tf.Tensor 'Placeholder_15:0' shape=(?,) dtype=float32>, '5': <tf.Tensor 'Placeholder_13:0' shape=(?,) dtype=float32>}\n",
      "W0707 17:07:53.206395 139647895070464 export_utils.py:182] Export includes no default signature!\n",
      "I0707 17:07:53.262617 139647895070464 saver.py:1280] Restoring parameters from /home/psdhruv/virality/cloudmlemodels/model.ckpt-1\n",
      "I0707 17:07:53.297724 139647895070464 builder_impl.py:661] Assets added to graph.\n",
      "I0707 17:07:53.298007 139647895070464 builder_impl.py:456] No assets to write.\n",
      "I0707 17:07:53.388779 139647895070464 builder_impl.py:421] SavedModel written to: /home/psdhruv/virality/cloudmlemodels/export/exporter/temp-b'1562519272'/saved_model.pb\n",
      "I0707 17:07:53.393683 139647895070464 basic_session_run_hooks.py:262] loss = 13030613000.0, step = 1\n",
      "I0707 17:08:01.824030 139647895070464 basic_session_run_hooks.py:606] Saving checkpoints for 2 into /home/psdhruv/virality/cloudmlemodels/model.ckpt.\n",
      "I0707 17:08:01.999094 139647895070464 estimator.py:1145] Calling model_fn.\n",
      "I0707 17:08:01.999439 139647895070464 estimator.py:1145] Calling model_fn.\n",
      "I0707 17:08:02.766153 139647895070464 estimator.py:1147] Done calling model_fn.\n",
      "I0707 17:08:02.782836 139647895070464 estimator.py:1147] Done calling model_fn.\n",
      "I0707 17:08:02.802920 139647895070464 evaluation.py:255] Starting evaluation at 2019-07-07T17:08:02Z\n",
      "I0707 17:08:02.918663 139647895070464 monitored_session.py:240] Graph was finalized.\n",
      "I0707 17:08:02.920355 139647895070464 saver.py:1280] Restoring parameters from /home/psdhruv/virality/cloudmlemodels/model.ckpt-2\n",
      "I0707 17:08:02.996667 139647895070464 session_manager.py:500] Running local_init_op.\n",
      "I0707 17:08:03.027317 139647895070464 session_manager.py:502] Done running local_init_op.\n",
      "I0707 17:08:04.866040 139647895070464 evaluation.py:275] Finished evaluation at 2019-07-07-17:08:04\n",
      "I0707 17:08:04.866409 139647895070464 estimator.py:2039] Saving dict for global step 2: average_loss = 205563.4, global_step = 2, label/mean = 79.93597, loss = 853910340.0, metric1 = 453.39102, prediction/mean = 168.56444\n",
      "I0707 17:08:04.866982 139647895070464 estimator.py:2099] Saving 'checkpoint_path' summary for global step 2: /home/psdhruv/virality/cloudmlemodels/model.ckpt-2\n",
      "I0707 17:08:04.887909 139647895070464 estimator.py:1145] Calling model_fn.\n",
      "I0707 17:08:04.888208 139647895070464 estimator.py:1145] Calling model_fn.\n",
      "I0707 17:08:05.508113 139647895070464 estimator.py:1147] Done calling model_fn.\n",
      "I0707 17:08:05.508373 139647895070464 estimator.py:1147] Done calling model_fn.\n",
      "I0707 17:08:05.509433 139647895070464 export_utils.py:170] Signatures INCLUDED in export for Regress: None\n",
      "I0707 17:08:05.509556 139647895070464 export_utils.py:170] Signatures INCLUDED in export for Predict: ['predict']\n",
      "I0707 17:08:05.509638 139647895070464 export_utils.py:170] Signatures INCLUDED in export for Train: None\n",
      "I0707 17:08:05.509705 139647895070464 export_utils.py:170] Signatures INCLUDED in export for Classify: None\n",
      "I0707 17:08:05.509790 139647895070464 export_utils.py:170] Signatures INCLUDED in export for Eval: None\n",
      "I0707 17:08:05.509865 139647895070464 export_utils.py:173] Signatures EXCLUDED from export because they cannot be be served via TensorFlow Serving APIs:\n",
      "I0707 17:08:05.509935 139647895070464 export_utils.py:176] 'regression' : Regression input must be a single string Tensor; got {'num_of_sentences': <tf.Tensor 'Placeholder_3:0' shape=(?,) dtype=float32>, '0': <tf.Tensor 'Placeholder_8:0' shape=(?,) dtype=float32>, 'length': <tf.Tensor 'Placeholder_4:0' shape=(?,) dtype=float32>, '2': <tf.Tensor 'Placeholder_10:0' shape=(?,) dtype=float32>, '14': <tf.Tensor 'Placeholder_22:0' shape=(?,) dtype=float32>, 'msaav10': <tf.Tensor 'Placeholder:0' shape=(?,) dtype=float32>, 'upv3hr': <tf.Tensor 'Placeholder_7:0' shape=(?,) dtype=float32>, '6': <tf.Tensor 'Placeholder_14:0' shape=(?,) dtype=float32>, 'other_entities': <tf.Tensor 'Placeholder_6:0' shape=(?,) dtype=float32>, '1': <tf.Tensor 'Placeholder_9:0' shape=(?,) dtype=float32>, '11': <tf.Tensor 'Placeholder_19:0' shape=(?,) dtype=float32>, '9': <tf.Tensor 'Placeholder_17:0' shape=(?,) dtype=float32>, '3': <tf.Tensor 'Placeholder_11:0' shape=(?,) dtype=float32>, 'num_of_identities': <tf.Tensor 'Placeholder_5:0' shape=(?,) dtype=float32>, 'polarity': <tf.Tensor 'Placeholder_1:0' shape=(?,) dtype=float32>, '10': <tf.Tensor 'Placeholder_18:0' shape=(?,) dtype=float32>, 'cat': <tf.Tensor 'Placeholder_23:0' shape=(?,) dtype=string>, '12': <tf.Tensor 'Placeholder_20:0' shape=(?,) dtype=float32>, '13': <tf.Tensor 'Placeholder_21:0' shape=(?,) dtype=float32>, 'subjectivity': <tf.Tensor 'Placeholder_2:0' shape=(?,) dtype=float32>, 'weekday': <tf.Tensor 'Placeholder_24:0' shape=(?,) dtype=int32>, '4': <tf.Tensor 'Placeholder_12:0' shape=(?,) dtype=float32>, 'hour': <tf.Tensor 'Placeholder_25:0' shape=(?,) dtype=int32>, '8': <tf.Tensor 'Placeholder_16:0' shape=(?,) dtype=float32>, '7': <tf.Tensor 'Placeholder_15:0' shape=(?,) dtype=float32>, '5': <tf.Tensor 'Placeholder_13:0' shape=(?,) dtype=float32>}\n",
      "I0707 17:08:05.510004 139647895070464 export_utils.py:176] 'serving_default' : Regression input must be a single string Tensor; got {'num_of_sentences': <tf.Tensor 'Placeholder_3:0' shape=(?,) dtype=float32>, '0': <tf.Tensor 'Placeholder_8:0' shape=(?,) dtype=float32>, 'length': <tf.Tensor 'Placeholder_4:0' shape=(?,) dtype=float32>, '2': <tf.Tensor 'Placeholder_10:0' shape=(?,) dtype=float32>, '14': <tf.Tensor 'Placeholder_22:0' shape=(?,) dtype=float32>, 'msaav10': <tf.Tensor 'Placeholder:0' shape=(?,) dtype=float32>, 'upv3hr': <tf.Tensor 'Placeholder_7:0' shape=(?,) dtype=float32>, '6': <tf.Tensor 'Placeholder_14:0' shape=(?,) dtype=float32>, 'other_entities': <tf.Tensor 'Placeholder_6:0' shape=(?,) dtype=float32>, '1': <tf.Tensor 'Placeholder_9:0' shape=(?,) dtype=float32>, '11': <tf.Tensor 'Placeholder_19:0' shape=(?,) dtype=float32>, '9': <tf.Tensor 'Placeholder_17:0' shape=(?,) dtype=float32>, '3': <tf.Tensor 'Placeholder_11:0' shape=(?,) dtype=float32>, 'num_of_identities': <tf.Tensor 'Placeholder_5:0' shape=(?,) dtype=float32>, 'polarity': <tf.Tensor 'Placeholder_1:0' shape=(?,) dtype=float32>, '10': <tf.Tensor 'Placeholder_18:0' shape=(?,) dtype=float32>, 'cat': <tf.Tensor 'Placeholder_23:0' shape=(?,) dtype=string>, '12': <tf.Tensor 'Placeholder_20:0' shape=(?,) dtype=float32>, '13': <tf.Tensor 'Placeholder_21:0' shape=(?,) dtype=float32>, 'subjectivity': <tf.Tensor 'Placeholder_2:0' shape=(?,) dtype=float32>, 'weekday': <tf.Tensor 'Placeholder_24:0' shape=(?,) dtype=int32>, '4': <tf.Tensor 'Placeholder_12:0' shape=(?,) dtype=float32>, 'hour': <tf.Tensor 'Placeholder_25:0' shape=(?,) dtype=int32>, '8': <tf.Tensor 'Placeholder_16:0' shape=(?,) dtype=float32>, '7': <tf.Tensor 'Placeholder_15:0' shape=(?,) dtype=float32>, '5': <tf.Tensor 'Placeholder_13:0' shape=(?,) dtype=float32>}\n",
      "W0707 17:08:05.510071 139647895070464 export_utils.py:182] Export includes no default signature!\n",
      "I0707 17:08:05.566349 139647895070464 saver.py:1280] Restoring parameters from /home/psdhruv/virality/cloudmlemodels/model.ckpt-2\n",
      "I0707 17:08:05.599591 139647895070464 builder_impl.py:661] Assets added to graph.\n",
      "I0707 17:08:05.599827 139647895070464 builder_impl.py:456] No assets to write.\n",
      "I0707 17:08:05.692056 139647895070464 builder_impl.py:421] SavedModel written to: /home/psdhruv/virality/cloudmlemodels/export/exporter/temp-b'1562519284'/saved_model.pb\n",
      "I0707 17:08:14.015049 139647895070464 basic_session_run_hooks.py:606] Saving checkpoints for 3 into /home/psdhruv/virality/cloudmlemodels/model.ckpt.\n",
      "W0707 17:08:14.020143 139647895070464 deprecation.py:323] From /home/psdhruv/python-environments/env3/lib/python3.5/site-packages/tensorflow/python/training/saver.py:960: remove_checkpoint (from tensorflow.python.training.checkpoint_management) is deprecated and will be removed in a future version.\n",
      "Instructions for updating:\n",
      "Use standard file APIs to delete files with this prefix.\n",
      "I0707 17:08:14.193297 139647895070464 estimator.py:1145] Calling model_fn.\n",
      "I0707 17:08:14.193638 139647895070464 estimator.py:1145] Calling model_fn.\n",
      "I0707 17:08:14.922058 139647895070464 estimator.py:1147] Done calling model_fn.\n",
      "I0707 17:08:14.938434 139647895070464 estimator.py:1147] Done calling model_fn.\n",
      "I0707 17:08:14.958028 139647895070464 evaluation.py:255] Starting evaluation at 2019-07-07T17:08:14Z\n",
      "I0707 17:08:15.073722 139647895070464 monitored_session.py:240] Graph was finalized.\n",
      "I0707 17:08:15.075494 139647895070464 saver.py:1280] Restoring parameters from /home/psdhruv/virality/cloudmlemodels/model.ckpt-3\n",
      "I0707 17:08:15.147006 139647895070464 session_manager.py:500] Running local_init_op.\n",
      "I0707 17:08:15.176830 139647895070464 session_manager.py:502] Done running local_init_op.\n",
      "I0707 17:08:17.043174 139647895070464 evaluation.py:275] Finished evaluation at 2019-07-07-17:08:17\n",
      "I0707 17:08:17.043508 139647895070464 estimator.py:2039] Saving dict for global step 3: average_loss = 197236.45, global_step = 3, label/mean = 79.93597, loss = 819320260.0, metric1 = 444.1131, prediction/mean = 147.46124\n",
      "I0707 17:08:17.044068 139647895070464 estimator.py:2099] Saving 'checkpoint_path' summary for global step 3: /home/psdhruv/virality/cloudmlemodels/model.ckpt-3\n",
      "I0707 17:08:17.064656 139647895070464 estimator.py:1145] Calling model_fn.\n",
      "I0707 17:08:17.064964 139647895070464 estimator.py:1145] Calling model_fn.\n",
      "I0707 17:08:17.508019 139647895070464 estimator.py:1147] Done calling model_fn.\n",
      "I0707 17:08:17.508273 139647895070464 estimator.py:1147] Done calling model_fn.\n",
      "I0707 17:08:17.509333 139647895070464 export_utils.py:170] Signatures INCLUDED in export for Regress: None\n",
      "I0707 17:08:17.509459 139647895070464 export_utils.py:170] Signatures INCLUDED in export for Predict: ['predict']\n",
      "I0707 17:08:17.509543 139647895070464 export_utils.py:170] Signatures INCLUDED in export for Train: None\n",
      "I0707 17:08:17.509605 139647895070464 export_utils.py:170] Signatures INCLUDED in export for Classify: None\n",
      "I0707 17:08:17.509675 139647895070464 export_utils.py:170] Signatures INCLUDED in export for Eval: None\n",
      "I0707 17:08:17.509741 139647895070464 export_utils.py:173] Signatures EXCLUDED from export because they cannot be be served via TensorFlow Serving APIs:\n",
      "I0707 17:08:17.509827 139647895070464 export_utils.py:176] 'regression' : Regression input must be a single string Tensor; got {'num_of_sentences': <tf.Tensor 'Placeholder_3:0' shape=(?,) dtype=float32>, '0': <tf.Tensor 'Placeholder_8:0' shape=(?,) dtype=float32>, 'length': <tf.Tensor 'Placeholder_4:0' shape=(?,) dtype=float32>, '2': <tf.Tensor 'Placeholder_10:0' shape=(?,) dtype=float32>, '14': <tf.Tensor 'Placeholder_22:0' shape=(?,) dtype=float32>, 'msaav10': <tf.Tensor 'Placeholder:0' shape=(?,) dtype=float32>, 'upv3hr': <tf.Tensor 'Placeholder_7:0' shape=(?,) dtype=float32>, '6': <tf.Tensor 'Placeholder_14:0' shape=(?,) dtype=float32>, 'other_entities': <tf.Tensor 'Placeholder_6:0' shape=(?,) dtype=float32>, '1': <tf.Tensor 'Placeholder_9:0' shape=(?,) dtype=float32>, '11': <tf.Tensor 'Placeholder_19:0' shape=(?,) dtype=float32>, '9': <tf.Tensor 'Placeholder_17:0' shape=(?,) dtype=float32>, '3': <tf.Tensor 'Placeholder_11:0' shape=(?,) dtype=float32>, 'num_of_identities': <tf.Tensor 'Placeholder_5:0' shape=(?,) dtype=float32>, 'polarity': <tf.Tensor 'Placeholder_1:0' shape=(?,) dtype=float32>, '10': <tf.Tensor 'Placeholder_18:0' shape=(?,) dtype=float32>, 'cat': <tf.Tensor 'Placeholder_23:0' shape=(?,) dtype=string>, '12': <tf.Tensor 'Placeholder_20:0' shape=(?,) dtype=float32>, '13': <tf.Tensor 'Placeholder_21:0' shape=(?,) dtype=float32>, 'subjectivity': <tf.Tensor 'Placeholder_2:0' shape=(?,) dtype=float32>, 'weekday': <tf.Tensor 'Placeholder_24:0' shape=(?,) dtype=int32>, '4': <tf.Tensor 'Placeholder_12:0' shape=(?,) dtype=float32>, 'hour': <tf.Tensor 'Placeholder_25:0' shape=(?,) dtype=int32>, '8': <tf.Tensor 'Placeholder_16:0' shape=(?,) dtype=float32>, '7': <tf.Tensor 'Placeholder_15:0' shape=(?,) dtype=float32>, '5': <tf.Tensor 'Placeholder_13:0' shape=(?,) dtype=float32>}\n",
      "I0707 17:08:17.509902 139647895070464 export_utils.py:176] 'serving_default' : Regression input must be a single string Tensor; got {'num_of_sentences': <tf.Tensor 'Placeholder_3:0' shape=(?,) dtype=float32>, '0': <tf.Tensor 'Placeholder_8:0' shape=(?,) dtype=float32>, 'length': <tf.Tensor 'Placeholder_4:0' shape=(?,) dtype=float32>, '2': <tf.Tensor 'Placeholder_10:0' shape=(?,) dtype=float32>, '14': <tf.Tensor 'Placeholder_22:0' shape=(?,) dtype=float32>, 'msaav10': <tf.Tensor 'Placeholder:0' shape=(?,) dtype=float32>, 'upv3hr': <tf.Tensor 'Placeholder_7:0' shape=(?,) dtype=float32>, '6': <tf.Tensor 'Placeholder_14:0' shape=(?,) dtype=float32>, 'other_entities': <tf.Tensor 'Placeholder_6:0' shape=(?,) dtype=float32>, '1': <tf.Tensor 'Placeholder_9:0' shape=(?,) dtype=float32>, '11': <tf.Tensor 'Placeholder_19:0' shape=(?,) dtype=float32>, '9': <tf.Tensor 'Placeholder_17:0' shape=(?,) dtype=float32>, '3': <tf.Tensor 'Placeholder_11:0' shape=(?,) dtype=float32>, 'num_of_identities': <tf.Tensor 'Placeholder_5:0' shape=(?,) dtype=float32>, 'polarity': <tf.Tensor 'Placeholder_1:0' shape=(?,) dtype=float32>, '10': <tf.Tensor 'Placeholder_18:0' shape=(?,) dtype=float32>, 'cat': <tf.Tensor 'Placeholder_23:0' shape=(?,) dtype=string>, '12': <tf.Tensor 'Placeholder_20:0' shape=(?,) dtype=float32>, '13': <tf.Tensor 'Placeholder_21:0' shape=(?,) dtype=float32>, 'subjectivity': <tf.Tensor 'Placeholder_2:0' shape=(?,) dtype=float32>, 'weekday': <tf.Tensor 'Placeholder_24:0' shape=(?,) dtype=int32>, '4': <tf.Tensor 'Placeholder_12:0' shape=(?,) dtype=float32>, 'hour': <tf.Tensor 'Placeholder_25:0' shape=(?,) dtype=int32>, '8': <tf.Tensor 'Placeholder_16:0' shape=(?,) dtype=float32>, '7': <tf.Tensor 'Placeholder_15:0' shape=(?,) dtype=float32>, '5': <tf.Tensor 'Placeholder_13:0' shape=(?,) dtype=float32>}\n",
      "W0707 17:08:17.509973 139647895070464 export_utils.py:182] Export includes no default signature!\n",
      "I0707 17:08:17.566046 139647895070464 saver.py:1280] Restoring parameters from /home/psdhruv/virality/cloudmlemodels/model.ckpt-3\n",
      "I0707 17:08:17.597440 139647895070464 builder_impl.py:661] Assets added to graph.\n",
      "I0707 17:08:17.597673 139647895070464 builder_impl.py:456] No assets to write.\n",
      "I0707 17:08:17.687828 139647895070464 builder_impl.py:421] SavedModel written to: /home/psdhruv/virality/cloudmlemodels/export/exporter/temp-b'1562519297'/saved_model.pb\n",
      "I0707 17:08:26.169088 139647895070464 basic_session_run_hooks.py:606] Saving checkpoints for 4 into /home/psdhruv/virality/cloudmlemodels/model.ckpt.\n",
      "I0707 17:08:26.555597 139647895070464 estimator.py:1145] Calling model_fn.\n",
      "I0707 17:08:26.555926 139647895070464 estimator.py:1145] Calling model_fn.\n",
      "I0707 17:08:27.122037 139647895070464 estimator.py:1147] Done calling model_fn.\n",
      "I0707 17:08:27.139193 139647895070464 estimator.py:1147] Done calling model_fn.\n",
      "I0707 17:08:27.159497 139647895070464 evaluation.py:255] Starting evaluation at 2019-07-07T17:08:27Z\n",
      "I0707 17:08:27.276659 139647895070464 monitored_session.py:240] Graph was finalized.\n",
      "I0707 17:08:27.278352 139647895070464 saver.py:1280] Restoring parameters from /home/psdhruv/virality/cloudmlemodels/model.ckpt-4\n",
      "I0707 17:08:27.351666 139647895070464 session_manager.py:500] Running local_init_op.\n",
      "I0707 17:08:27.381024 139647895070464 session_manager.py:502] Done running local_init_op.\n",
      "I0707 17:08:29.339691 139647895070464 evaluation.py:275] Finished evaluation at 2019-07-07-17:08:29\n",
      "I0707 17:08:29.340017 139647895070464 estimator.py:2039] Saving dict for global step 4: average_loss = 191487.95, global_step = 4, label/mean = 79.93597, loss = 795440960.0, metric1 = 437.59335, prediction/mean = 132.39241\n",
      "I0707 17:08:29.340557 139647895070464 estimator.py:2099] Saving 'checkpoint_path' summary for global step 4: /home/psdhruv/virality/cloudmlemodels/model.ckpt-4\n",
      "I0707 17:08:29.360819 139647895070464 estimator.py:1145] Calling model_fn.\n",
      "I0707 17:08:29.361119 139647895070464 estimator.py:1145] Calling model_fn.\n",
      "I0707 17:08:29.975071 139647895070464 estimator.py:1147] Done calling model_fn.\n",
      "I0707 17:08:29.975339 139647895070464 estimator.py:1147] Done calling model_fn.\n",
      "I0707 17:08:29.976438 139647895070464 export_utils.py:170] Signatures INCLUDED in export for Regress: None\n",
      "I0707 17:08:29.976558 139647895070464 export_utils.py:170] Signatures INCLUDED in export for Predict: ['predict']\n",
      "I0707 17:08:29.976633 139647895070464 export_utils.py:170] Signatures INCLUDED in export for Train: None\n",
      "I0707 17:08:29.976699 139647895070464 export_utils.py:170] Signatures INCLUDED in export for Classify: None\n",
      "I0707 17:08:29.976767 139647895070464 export_utils.py:170] Signatures INCLUDED in export for Eval: None\n",
      "I0707 17:08:29.976835 139647895070464 export_utils.py:173] Signatures EXCLUDED from export because they cannot be be served via TensorFlow Serving APIs:\n",
      "I0707 17:08:29.976913 139647895070464 export_utils.py:176] 'regression' : Regression input must be a single string Tensor; got {'num_of_sentences': <tf.Tensor 'Placeholder_3:0' shape=(?,) dtype=float32>, '0': <tf.Tensor 'Placeholder_8:0' shape=(?,) dtype=float32>, 'length': <tf.Tensor 'Placeholder_4:0' shape=(?,) dtype=float32>, '2': <tf.Tensor 'Placeholder_10:0' shape=(?,) dtype=float32>, '14': <tf.Tensor 'Placeholder_22:0' shape=(?,) dtype=float32>, 'msaav10': <tf.Tensor 'Placeholder:0' shape=(?,) dtype=float32>, 'upv3hr': <tf.Tensor 'Placeholder_7:0' shape=(?,) dtype=float32>, '6': <tf.Tensor 'Placeholder_14:0' shape=(?,) dtype=float32>, 'other_entities': <tf.Tensor 'Placeholder_6:0' shape=(?,) dtype=float32>, '1': <tf.Tensor 'Placeholder_9:0' shape=(?,) dtype=float32>, '11': <tf.Tensor 'Placeholder_19:0' shape=(?,) dtype=float32>, '9': <tf.Tensor 'Placeholder_17:0' shape=(?,) dtype=float32>, '3': <tf.Tensor 'Placeholder_11:0' shape=(?,) dtype=float32>, 'num_of_identities': <tf.Tensor 'Placeholder_5:0' shape=(?,) dtype=float32>, 'polarity': <tf.Tensor 'Placeholder_1:0' shape=(?,) dtype=float32>, '10': <tf.Tensor 'Placeholder_18:0' shape=(?,) dtype=float32>, 'cat': <tf.Tensor 'Placeholder_23:0' shape=(?,) dtype=string>, '12': <tf.Tensor 'Placeholder_20:0' shape=(?,) dtype=float32>, '13': <tf.Tensor 'Placeholder_21:0' shape=(?,) dtype=float32>, 'subjectivity': <tf.Tensor 'Placeholder_2:0' shape=(?,) dtype=float32>, 'weekday': <tf.Tensor 'Placeholder_24:0' shape=(?,) dtype=int32>, '4': <tf.Tensor 'Placeholder_12:0' shape=(?,) dtype=float32>, 'hour': <tf.Tensor 'Placeholder_25:0' shape=(?,) dtype=int32>, '8': <tf.Tensor 'Placeholder_16:0' shape=(?,) dtype=float32>, '7': <tf.Tensor 'Placeholder_15:0' shape=(?,) dtype=float32>, '5': <tf.Tensor 'Placeholder_13:0' shape=(?,) dtype=float32>}\n",
      "I0707 17:08:29.976985 139647895070464 export_utils.py:176] 'serving_default' : Regression input must be a single string Tensor; got {'num_of_sentences': <tf.Tensor 'Placeholder_3:0' shape=(?,) dtype=float32>, '0': <tf.Tensor 'Placeholder_8:0' shape=(?,) dtype=float32>, 'length': <tf.Tensor 'Placeholder_4:0' shape=(?,) dtype=float32>, '2': <tf.Tensor 'Placeholder_10:0' shape=(?,) dtype=float32>, '14': <tf.Tensor 'Placeholder_22:0' shape=(?,) dtype=float32>, 'msaav10': <tf.Tensor 'Placeholder:0' shape=(?,) dtype=float32>, 'upv3hr': <tf.Tensor 'Placeholder_7:0' shape=(?,) dtype=float32>, '6': <tf.Tensor 'Placeholder_14:0' shape=(?,) dtype=float32>, 'other_entities': <tf.Tensor 'Placeholder_6:0' shape=(?,) dtype=float32>, '1': <tf.Tensor 'Placeholder_9:0' shape=(?,) dtype=float32>, '11': <tf.Tensor 'Placeholder_19:0' shape=(?,) dtype=float32>, '9': <tf.Tensor 'Placeholder_17:0' shape=(?,) dtype=float32>, '3': <tf.Tensor 'Placeholder_11:0' shape=(?,) dtype=float32>, 'num_of_identities': <tf.Tensor 'Placeholder_5:0' shape=(?,) dtype=float32>, 'polarity': <tf.Tensor 'Placeholder_1:0' shape=(?,) dtype=float32>, '10': <tf.Tensor 'Placeholder_18:0' shape=(?,) dtype=float32>, 'cat': <tf.Tensor 'Placeholder_23:0' shape=(?,) dtype=string>, '12': <tf.Tensor 'Placeholder_20:0' shape=(?,) dtype=float32>, '13': <tf.Tensor 'Placeholder_21:0' shape=(?,) dtype=float32>, 'subjectivity': <tf.Tensor 'Placeholder_2:0' shape=(?,) dtype=float32>, 'weekday': <tf.Tensor 'Placeholder_24:0' shape=(?,) dtype=int32>, '4': <tf.Tensor 'Placeholder_12:0' shape=(?,) dtype=float32>, 'hour': <tf.Tensor 'Placeholder_25:0' shape=(?,) dtype=int32>, '8': <tf.Tensor 'Placeholder_16:0' shape=(?,) dtype=float32>, '7': <tf.Tensor 'Placeholder_15:0' shape=(?,) dtype=float32>, '5': <tf.Tensor 'Placeholder_13:0' shape=(?,) dtype=float32>}\n",
      "W0707 17:08:29.977057 139647895070464 export_utils.py:182] Export includes no default signature!\n",
      "I0707 17:08:30.033394 139647895070464 saver.py:1280] Restoring parameters from /home/psdhruv/virality/cloudmlemodels/model.ckpt-4\n",
      "I0707 17:08:30.065368 139647895070464 builder_impl.py:661] Assets added to graph.\n",
      "I0707 17:08:30.065602 139647895070464 builder_impl.py:456] No assets to write.\n",
      "I0707 17:08:30.157465 139647895070464 builder_impl.py:421] SavedModel written to: /home/psdhruv/virality/cloudmlemodels/export/exporter/temp-b'1562519309'/saved_model.pb\n",
      "I0707 17:08:38.783556 139647895070464 basic_session_run_hooks.py:606] Saving checkpoints for 5 into /home/psdhruv/virality/cloudmlemodels/model.ckpt.\n",
      "I0707 17:08:38.967412 139647895070464 estimator.py:1145] Calling model_fn.\n",
      "I0707 17:08:38.967752 139647895070464 estimator.py:1145] Calling model_fn.\n",
      "I0707 17:08:39.707058 139647895070464 estimator.py:1147] Done calling model_fn.\n",
      "I0707 17:08:39.723631 139647895070464 estimator.py:1147] Done calling model_fn.\n",
      "I0707 17:08:39.744822 139647895070464 evaluation.py:255] Starting evaluation at 2019-07-07T17:08:39Z\n",
      "I0707 17:08:39.861801 139647895070464 monitored_session.py:240] Graph was finalized.\n",
      "I0707 17:08:39.863440 139647895070464 saver.py:1280] Restoring parameters from /home/psdhruv/virality/cloudmlemodels/model.ckpt-5\n",
      "I0707 17:08:39.948645 139647895070464 session_manager.py:500] Running local_init_op.\n",
      "I0707 17:08:39.981136 139647895070464 session_manager.py:502] Done running local_init_op.\n",
      "I0707 17:08:42.034870 139647895070464 evaluation.py:275] Finished evaluation at 2019-07-07-17:08:42\n",
      "I0707 17:08:42.035220 139647895070464 estimator.py:2039] Saving dict for global step 5: average_loss = 187220.16, global_step = 5, label/mean = 79.93597, loss = 777712600.0, metric1 = 432.68945, prediction/mean = 121.2253\n",
      "I0707 17:08:42.035784 139647895070464 estimator.py:2099] Saving 'checkpoint_path' summary for global step 5: /home/psdhruv/virality/cloudmlemodels/model.ckpt-5\n",
      "I0707 17:08:42.056100 139647895070464 estimator.py:1145] Calling model_fn.\n",
      "I0707 17:08:42.056412 139647895070464 estimator.py:1145] Calling model_fn.\n",
      "I0707 17:08:42.495705 139647895070464 estimator.py:1147] Done calling model_fn.\n",
      "I0707 17:08:42.495957 139647895070464 estimator.py:1147] Done calling model_fn.\n",
      "I0707 17:08:42.497010 139647895070464 export_utils.py:170] Signatures INCLUDED in export for Regress: None\n",
      "I0707 17:08:42.497129 139647895070464 export_utils.py:170] Signatures INCLUDED in export for Predict: ['predict']\n",
      "I0707 17:08:42.497206 139647895070464 export_utils.py:170] Signatures INCLUDED in export for Train: None\n",
      "I0707 17:08:42.497272 139647895070464 export_utils.py:170] Signatures INCLUDED in export for Classify: None\n",
      "I0707 17:08:42.497350 139647895070464 export_utils.py:170] Signatures INCLUDED in export for Eval: None\n",
      "I0707 17:08:42.497417 139647895070464 export_utils.py:173] Signatures EXCLUDED from export because they cannot be be served via TensorFlow Serving APIs:\n",
      "I0707 17:08:42.497485 139647895070464 export_utils.py:176] 'regression' : Regression input must be a single string Tensor; got {'num_of_sentences': <tf.Tensor 'Placeholder_3:0' shape=(?,) dtype=float32>, '0': <tf.Tensor 'Placeholder_8:0' shape=(?,) dtype=float32>, 'length': <tf.Tensor 'Placeholder_4:0' shape=(?,) dtype=float32>, '2': <tf.Tensor 'Placeholder_10:0' shape=(?,) dtype=float32>, '14': <tf.Tensor 'Placeholder_22:0' shape=(?,) dtype=float32>, 'msaav10': <tf.Tensor 'Placeholder:0' shape=(?,) dtype=float32>, 'upv3hr': <tf.Tensor 'Placeholder_7:0' shape=(?,) dtype=float32>, '6': <tf.Tensor 'Placeholder_14:0' shape=(?,) dtype=float32>, 'other_entities': <tf.Tensor 'Placeholder_6:0' shape=(?,) dtype=float32>, '1': <tf.Tensor 'Placeholder_9:0' shape=(?,) dtype=float32>, '11': <tf.Tensor 'Placeholder_19:0' shape=(?,) dtype=float32>, '9': <tf.Tensor 'Placeholder_17:0' shape=(?,) dtype=float32>, '3': <tf.Tensor 'Placeholder_11:0' shape=(?,) dtype=float32>, 'num_of_identities': <tf.Tensor 'Placeholder_5:0' shape=(?,) dtype=float32>, 'polarity': <tf.Tensor 'Placeholder_1:0' shape=(?,) dtype=float32>, '10': <tf.Tensor 'Placeholder_18:0' shape=(?,) dtype=float32>, 'cat': <tf.Tensor 'Placeholder_23:0' shape=(?,) dtype=string>, '12': <tf.Tensor 'Placeholder_20:0' shape=(?,) dtype=float32>, '13': <tf.Tensor 'Placeholder_21:0' shape=(?,) dtype=float32>, 'subjectivity': <tf.Tensor 'Placeholder_2:0' shape=(?,) dtype=float32>, 'weekday': <tf.Tensor 'Placeholder_24:0' shape=(?,) dtype=int32>, '4': <tf.Tensor 'Placeholder_12:0' shape=(?,) dtype=float32>, 'hour': <tf.Tensor 'Placeholder_25:0' shape=(?,) dtype=int32>, '8': <tf.Tensor 'Placeholder_16:0' shape=(?,) dtype=float32>, '7': <tf.Tensor 'Placeholder_15:0' shape=(?,) dtype=float32>, '5': <tf.Tensor 'Placeholder_13:0' shape=(?,) dtype=float32>}\n",
      "I0707 17:08:42.497555 139647895070464 export_utils.py:176] 'serving_default' : Regression input must be a single string Tensor; got {'num_of_sentences': <tf.Tensor 'Placeholder_3:0' shape=(?,) dtype=float32>, '0': <tf.Tensor 'Placeholder_8:0' shape=(?,) dtype=float32>, 'length': <tf.Tensor 'Placeholder_4:0' shape=(?,) dtype=float32>, '2': <tf.Tensor 'Placeholder_10:0' shape=(?,) dtype=float32>, '14': <tf.Tensor 'Placeholder_22:0' shape=(?,) dtype=float32>, 'msaav10': <tf.Tensor 'Placeholder:0' shape=(?,) dtype=float32>, 'upv3hr': <tf.Tensor 'Placeholder_7:0' shape=(?,) dtype=float32>, '6': <tf.Tensor 'Placeholder_14:0' shape=(?,) dtype=float32>, 'other_entities': <tf.Tensor 'Placeholder_6:0' shape=(?,) dtype=float32>, '1': <tf.Tensor 'Placeholder_9:0' shape=(?,) dtype=float32>, '11': <tf.Tensor 'Placeholder_19:0' shape=(?,) dtype=float32>, '9': <tf.Tensor 'Placeholder_17:0' shape=(?,) dtype=float32>, '3': <tf.Tensor 'Placeholder_11:0' shape=(?,) dtype=float32>, 'num_of_identities': <tf.Tensor 'Placeholder_5:0' shape=(?,) dtype=float32>, 'polarity': <tf.Tensor 'Placeholder_1:0' shape=(?,) dtype=float32>, '10': <tf.Tensor 'Placeholder_18:0' shape=(?,) dtype=float32>, 'cat': <tf.Tensor 'Placeholder_23:0' shape=(?,) dtype=string>, '12': <tf.Tensor 'Placeholder_20:0' shape=(?,) dtype=float32>, '13': <tf.Tensor 'Placeholder_21:0' shape=(?,) dtype=float32>, 'subjectivity': <tf.Tensor 'Placeholder_2:0' shape=(?,) dtype=float32>, 'weekday': <tf.Tensor 'Placeholder_24:0' shape=(?,) dtype=int32>, '4': <tf.Tensor 'Placeholder_12:0' shape=(?,) dtype=float32>, 'hour': <tf.Tensor 'Placeholder_25:0' shape=(?,) dtype=int32>, '8': <tf.Tensor 'Placeholder_16:0' shape=(?,) dtype=float32>, '7': <tf.Tensor 'Placeholder_15:0' shape=(?,) dtype=float32>, '5': <tf.Tensor 'Placeholder_13:0' shape=(?,) dtype=float32>}\n",
      "W0707 17:08:42.497623 139647895070464 export_utils.py:182] Export includes no default signature!\n",
      "I0707 17:08:42.554536 139647895070464 saver.py:1280] Restoring parameters from /home/psdhruv/virality/cloudmlemodels/model.ckpt-5\n",
      "I0707 17:08:42.585355 139647895070464 builder_impl.py:661] Assets added to graph.\n",
      "I0707 17:08:42.585595 139647895070464 builder_impl.py:456] No assets to write.\n",
      "I0707 17:08:42.673887 139647895070464 builder_impl.py:421] SavedModel written to: /home/psdhruv/virality/cloudmlemodels/export/exporter/temp-b'1562519322'/saved_model.pb\n",
      "I0707 17:08:51.640666 139647895070464 basic_session_run_hooks.py:606] Saving checkpoints for 6 into /home/psdhruv/virality/cloudmlemodels/model.ckpt.\n",
      "I0707 17:08:52.023906 139647895070464 estimator.py:1145] Calling model_fn.\n",
      "I0707 17:08:52.024246 139647895070464 estimator.py:1145] Calling model_fn.\n",
      "I0707 17:08:52.591454 139647895070464 estimator.py:1147] Done calling model_fn.\n",
      "I0707 17:08:52.608808 139647895070464 estimator.py:1147] Done calling model_fn.\n",
      "I0707 17:08:52.629250 139647895070464 evaluation.py:255] Starting evaluation at 2019-07-07T17:08:52Z\n",
      "I0707 17:08:52.745933 139647895070464 monitored_session.py:240] Graph was finalized.\n",
      "I0707 17:08:52.747553 139647895070464 saver.py:1280] Restoring parameters from /home/psdhruv/virality/cloudmlemodels/model.ckpt-6\n",
      "I0707 17:08:52.829979 139647895070464 session_manager.py:500] Running local_init_op.\n",
      "I0707 17:08:52.859980 139647895070464 session_manager.py:502] Done running local_init_op.\n",
      "I0707 17:08:54.971359 139647895070464 evaluation.py:275] Finished evaluation at 2019-07-07-17:08:54\n",
      "I0707 17:08:54.971701 139647895070464 estimator.py:2039] Saving dict for global step 6: average_loss = 183787.1, global_step = 6, label/mean = 79.93597, loss = 763451600.0, metric1 = 428.70398, prediction/mean = 112.80775\n",
      "I0707 17:08:54.972252 139647895070464 estimator.py:2099] Saving 'checkpoint_path' summary for global step 6: /home/psdhruv/virality/cloudmlemodels/model.ckpt-6\n",
      "I0707 17:08:54.992491 139647895070464 estimator.py:1145] Calling model_fn.\n",
      "I0707 17:08:54.992756 139647895070464 estimator.py:1145] Calling model_fn.\n",
      "I0707 17:08:55.607863 139647895070464 estimator.py:1147] Done calling model_fn.\n",
      "I0707 17:08:55.608124 139647895070464 estimator.py:1147] Done calling model_fn.\n",
      "I0707 17:08:55.609181 139647895070464 export_utils.py:170] Signatures INCLUDED in export for Regress: None\n",
      "I0707 17:08:55.609313 139647895070464 export_utils.py:170] Signatures INCLUDED in export for Predict: ['predict']\n",
      "I0707 17:08:55.609390 139647895070464 export_utils.py:170] Signatures INCLUDED in export for Train: None\n",
      "I0707 17:08:55.609459 139647895070464 export_utils.py:170] Signatures INCLUDED in export for Classify: None\n",
      "I0707 17:08:55.609528 139647895070464 export_utils.py:170] Signatures INCLUDED in export for Eval: None\n",
      "I0707 17:08:55.609595 139647895070464 export_utils.py:173] Signatures EXCLUDED from export because they cannot be be served via TensorFlow Serving APIs:\n",
      "I0707 17:08:55.609663 139647895070464 export_utils.py:176] 'regression' : Regression input must be a single string Tensor; got {'num_of_sentences': <tf.Tensor 'Placeholder_3:0' shape=(?,) dtype=float32>, '0': <tf.Tensor 'Placeholder_8:0' shape=(?,) dtype=float32>, 'length': <tf.Tensor 'Placeholder_4:0' shape=(?,) dtype=float32>, '2': <tf.Tensor 'Placeholder_10:0' shape=(?,) dtype=float32>, '14': <tf.Tensor 'Placeholder_22:0' shape=(?,) dtype=float32>, 'msaav10': <tf.Tensor 'Placeholder:0' shape=(?,) dtype=float32>, 'upv3hr': <tf.Tensor 'Placeholder_7:0' shape=(?,) dtype=float32>, '6': <tf.Tensor 'Placeholder_14:0' shape=(?,) dtype=float32>, 'other_entities': <tf.Tensor 'Placeholder_6:0' shape=(?,) dtype=float32>, '1': <tf.Tensor 'Placeholder_9:0' shape=(?,) dtype=float32>, '11': <tf.Tensor 'Placeholder_19:0' shape=(?,) dtype=float32>, '9': <tf.Tensor 'Placeholder_17:0' shape=(?,) dtype=float32>, '3': <tf.Tensor 'Placeholder_11:0' shape=(?,) dtype=float32>, 'num_of_identities': <tf.Tensor 'Placeholder_5:0' shape=(?,) dtype=float32>, 'polarity': <tf.Tensor 'Placeholder_1:0' shape=(?,) dtype=float32>, '10': <tf.Tensor 'Placeholder_18:0' shape=(?,) dtype=float32>, 'cat': <tf.Tensor 'Placeholder_23:0' shape=(?,) dtype=string>, '12': <tf.Tensor 'Placeholder_20:0' shape=(?,) dtype=float32>, '13': <tf.Tensor 'Placeholder_21:0' shape=(?,) dtype=float32>, 'subjectivity': <tf.Tensor 'Placeholder_2:0' shape=(?,) dtype=float32>, 'weekday': <tf.Tensor 'Placeholder_24:0' shape=(?,) dtype=int32>, '4': <tf.Tensor 'Placeholder_12:0' shape=(?,) dtype=float32>, 'hour': <tf.Tensor 'Placeholder_25:0' shape=(?,) dtype=int32>, '8': <tf.Tensor 'Placeholder_16:0' shape=(?,) dtype=float32>, '7': <tf.Tensor 'Placeholder_15:0' shape=(?,) dtype=float32>, '5': <tf.Tensor 'Placeholder_13:0' shape=(?,) dtype=float32>}\n",
      "I0707 17:08:55.609740 139647895070464 export_utils.py:176] 'serving_default' : Regression input must be a single string Tensor; got {'num_of_sentences': <tf.Tensor 'Placeholder_3:0' shape=(?,) dtype=float32>, '0': <tf.Tensor 'Placeholder_8:0' shape=(?,) dtype=float32>, 'length': <tf.Tensor 'Placeholder_4:0' shape=(?,) dtype=float32>, '2': <tf.Tensor 'Placeholder_10:0' shape=(?,) dtype=float32>, '14': <tf.Tensor 'Placeholder_22:0' shape=(?,) dtype=float32>, 'msaav10': <tf.Tensor 'Placeholder:0' shape=(?,) dtype=float32>, 'upv3hr': <tf.Tensor 'Placeholder_7:0' shape=(?,) dtype=float32>, '6': <tf.Tensor 'Placeholder_14:0' shape=(?,) dtype=float32>, 'other_entities': <tf.Tensor 'Placeholder_6:0' shape=(?,) dtype=float32>, '1': <tf.Tensor 'Placeholder_9:0' shape=(?,) dtype=float32>, '11': <tf.Tensor 'Placeholder_19:0' shape=(?,) dtype=float32>, '9': <tf.Tensor 'Placeholder_17:0' shape=(?,) dtype=float32>, '3': <tf.Tensor 'Placeholder_11:0' shape=(?,) dtype=float32>, 'num_of_identities': <tf.Tensor 'Placeholder_5:0' shape=(?,) dtype=float32>, 'polarity': <tf.Tensor 'Placeholder_1:0' shape=(?,) dtype=float32>, '10': <tf.Tensor 'Placeholder_18:0' shape=(?,) dtype=float32>, 'cat': <tf.Tensor 'Placeholder_23:0' shape=(?,) dtype=string>, '12': <tf.Tensor 'Placeholder_20:0' shape=(?,) dtype=float32>, '13': <tf.Tensor 'Placeholder_21:0' shape=(?,) dtype=float32>, 'subjectivity': <tf.Tensor 'Placeholder_2:0' shape=(?,) dtype=float32>, 'weekday': <tf.Tensor 'Placeholder_24:0' shape=(?,) dtype=int32>, '4': <tf.Tensor 'Placeholder_12:0' shape=(?,) dtype=float32>, 'hour': <tf.Tensor 'Placeholder_25:0' shape=(?,) dtype=int32>, '8': <tf.Tensor 'Placeholder_16:0' shape=(?,) dtype=float32>, '7': <tf.Tensor 'Placeholder_15:0' shape=(?,) dtype=float32>, '5': <tf.Tensor 'Placeholder_13:0' shape=(?,) dtype=float32>}\n",
      "W0707 17:08:55.609828 139647895070464 export_utils.py:182] Export includes no default signature!\n",
      "I0707 17:08:55.665047 139647895070464 saver.py:1280] Restoring parameters from /home/psdhruv/virality/cloudmlemodels/model.ckpt-6\n",
      "I0707 17:08:55.697322 139647895070464 builder_impl.py:661] Assets added to graph.\n",
      "I0707 17:08:55.697562 139647895070464 builder_impl.py:456] No assets to write.\n",
      "I0707 17:08:55.787663 139647895070464 builder_impl.py:421] SavedModel written to: /home/psdhruv/virality/cloudmlemodels/export/exporter/temp-b'1562519334'/saved_model.pb\n",
      "I0707 17:09:05.466165 139647895070464 basic_session_run_hooks.py:606] Saving checkpoints for 7 into /home/psdhruv/virality/cloudmlemodels/model.ckpt.\n",
      "I0707 17:09:05.677732 139647895070464 estimator.py:1145] Calling model_fn.\n",
      "I0707 17:09:05.678093 139647895070464 estimator.py:1145] Calling model_fn.\n",
      "I0707 17:09:06.424375 139647895070464 estimator.py:1147] Done calling model_fn.\n",
      "I0707 17:09:06.442481 139647895070464 estimator.py:1147] Done calling model_fn.\n",
      "I0707 17:09:06.463044 139647895070464 evaluation.py:255] Starting evaluation at 2019-07-07T17:09:06Z\n",
      "I0707 17:09:06.579020 139647895070464 monitored_session.py:240] Graph was finalized.\n",
      "I0707 17:09:06.580657 139647895070464 saver.py:1280] Restoring parameters from /home/psdhruv/virality/cloudmlemodels/model.ckpt-7\n",
      "I0707 17:09:06.666678 139647895070464 session_manager.py:500] Running local_init_op.\n",
      "I0707 17:09:06.697271 139647895070464 session_manager.py:502] Done running local_init_op.\n",
      "I0707 17:09:08.928243 139647895070464 evaluation.py:275] Finished evaluation at 2019-07-07-17:09:08\n",
      "I0707 17:09:08.928590 139647895070464 estimator.py:2039] Saving dict for global step 7: average_loss = 180884.56, global_step = 7, label/mean = 79.93597, loss = 751394500.0, metric1 = 425.30527, prediction/mean = 106.42697\n",
      "I0707 17:09:08.929166 139647895070464 estimator.py:2099] Saving 'checkpoint_path' summary for global step 7: /home/psdhruv/virality/cloudmlemodels/model.ckpt-7\n",
      "I0707 17:09:08.949392 139647895070464 estimator.py:1145] Calling model_fn.\n",
      "I0707 17:09:08.949698 139647895070464 estimator.py:1145] Calling model_fn.\n",
      "I0707 17:09:09.387211 139647895070464 estimator.py:1147] Done calling model_fn.\n",
      "I0707 17:09:09.387485 139647895070464 estimator.py:1147] Done calling model_fn.\n",
      "I0707 17:09:09.388573 139647895070464 export_utils.py:170] Signatures INCLUDED in export for Regress: None\n",
      "I0707 17:09:09.388708 139647895070464 export_utils.py:170] Signatures INCLUDED in export for Predict: ['predict']\n",
      "I0707 17:09:09.388788 139647895070464 export_utils.py:170] Signatures INCLUDED in export for Train: None\n",
      "I0707 17:09:09.388856 139647895070464 export_utils.py:170] Signatures INCLUDED in export for Classify: None\n",
      "I0707 17:09:09.388928 139647895070464 export_utils.py:170] Signatures INCLUDED in export for Eval: None\n",
      "I0707 17:09:09.388997 139647895070464 export_utils.py:173] Signatures EXCLUDED from export because they cannot be be served via TensorFlow Serving APIs:\n",
      "I0707 17:09:09.389067 139647895070464 export_utils.py:176] 'regression' : Regression input must be a single string Tensor; got {'num_of_sentences': <tf.Tensor 'Placeholder_3:0' shape=(?,) dtype=float32>, '0': <tf.Tensor 'Placeholder_8:0' shape=(?,) dtype=float32>, 'length': <tf.Tensor 'Placeholder_4:0' shape=(?,) dtype=float32>, '2': <tf.Tensor 'Placeholder_10:0' shape=(?,) dtype=float32>, '14': <tf.Tensor 'Placeholder_22:0' shape=(?,) dtype=float32>, 'msaav10': <tf.Tensor 'Placeholder:0' shape=(?,) dtype=float32>, 'upv3hr': <tf.Tensor 'Placeholder_7:0' shape=(?,) dtype=float32>, '6': <tf.Tensor 'Placeholder_14:0' shape=(?,) dtype=float32>, 'other_entities': <tf.Tensor 'Placeholder_6:0' shape=(?,) dtype=float32>, '1': <tf.Tensor 'Placeholder_9:0' shape=(?,) dtype=float32>, '11': <tf.Tensor 'Placeholder_19:0' shape=(?,) dtype=float32>, '9': <tf.Tensor 'Placeholder_17:0' shape=(?,) dtype=float32>, '3': <tf.Tensor 'Placeholder_11:0' shape=(?,) dtype=float32>, 'num_of_identities': <tf.Tensor 'Placeholder_5:0' shape=(?,) dtype=float32>, 'polarity': <tf.Tensor 'Placeholder_1:0' shape=(?,) dtype=float32>, '10': <tf.Tensor 'Placeholder_18:0' shape=(?,) dtype=float32>, 'cat': <tf.Tensor 'Placeholder_23:0' shape=(?,) dtype=string>, '12': <tf.Tensor 'Placeholder_20:0' shape=(?,) dtype=float32>, '13': <tf.Tensor 'Placeholder_21:0' shape=(?,) dtype=float32>, 'subjectivity': <tf.Tensor 'Placeholder_2:0' shape=(?,) dtype=float32>, 'weekday': <tf.Tensor 'Placeholder_24:0' shape=(?,) dtype=int32>, '4': <tf.Tensor 'Placeholder_12:0' shape=(?,) dtype=float32>, 'hour': <tf.Tensor 'Placeholder_25:0' shape=(?,) dtype=int32>, '8': <tf.Tensor 'Placeholder_16:0' shape=(?,) dtype=float32>, '7': <tf.Tensor 'Placeholder_15:0' shape=(?,) dtype=float32>, '5': <tf.Tensor 'Placeholder_13:0' shape=(?,) dtype=float32>}\n",
      "I0707 17:09:09.389138 139647895070464 export_utils.py:176] 'serving_default' : Regression input must be a single string Tensor; got {'num_of_sentences': <tf.Tensor 'Placeholder_3:0' shape=(?,) dtype=float32>, '0': <tf.Tensor 'Placeholder_8:0' shape=(?,) dtype=float32>, 'length': <tf.Tensor 'Placeholder_4:0' shape=(?,) dtype=float32>, '2': <tf.Tensor 'Placeholder_10:0' shape=(?,) dtype=float32>, '14': <tf.Tensor 'Placeholder_22:0' shape=(?,) dtype=float32>, 'msaav10': <tf.Tensor 'Placeholder:0' shape=(?,) dtype=float32>, 'upv3hr': <tf.Tensor 'Placeholder_7:0' shape=(?,) dtype=float32>, '6': <tf.Tensor 'Placeholder_14:0' shape=(?,) dtype=float32>, 'other_entities': <tf.Tensor 'Placeholder_6:0' shape=(?,) dtype=float32>, '1': <tf.Tensor 'Placeholder_9:0' shape=(?,) dtype=float32>, '11': <tf.Tensor 'Placeholder_19:0' shape=(?,) dtype=float32>, '9': <tf.Tensor 'Placeholder_17:0' shape=(?,) dtype=float32>, '3': <tf.Tensor 'Placeholder_11:0' shape=(?,) dtype=float32>, 'num_of_identities': <tf.Tensor 'Placeholder_5:0' shape=(?,) dtype=float32>, 'polarity': <tf.Tensor 'Placeholder_1:0' shape=(?,) dtype=float32>, '10': <tf.Tensor 'Placeholder_18:0' shape=(?,) dtype=float32>, 'cat': <tf.Tensor 'Placeholder_23:0' shape=(?,) dtype=string>, '12': <tf.Tensor 'Placeholder_20:0' shape=(?,) dtype=float32>, '13': <tf.Tensor 'Placeholder_21:0' shape=(?,) dtype=float32>, 'subjectivity': <tf.Tensor 'Placeholder_2:0' shape=(?,) dtype=float32>, 'weekday': <tf.Tensor 'Placeholder_24:0' shape=(?,) dtype=int32>, '4': <tf.Tensor 'Placeholder_12:0' shape=(?,) dtype=float32>, 'hour': <tf.Tensor 'Placeholder_25:0' shape=(?,) dtype=int32>, '8': <tf.Tensor 'Placeholder_16:0' shape=(?,) dtype=float32>, '7': <tf.Tensor 'Placeholder_15:0' shape=(?,) dtype=float32>, '5': <tf.Tensor 'Placeholder_13:0' shape=(?,) dtype=float32>}\n",
      "W0707 17:09:09.389209 139647895070464 export_utils.py:182] Export includes no default signature!\n",
      "I0707 17:09:09.446928 139647895070464 saver.py:1280] Restoring parameters from /home/psdhruv/virality/cloudmlemodels/model.ckpt-7\n",
      "I0707 17:09:09.484910 139647895070464 builder_impl.py:661] Assets added to graph.\n",
      "I0707 17:09:09.485155 139647895070464 builder_impl.py:456] No assets to write.\n",
      "I0707 17:09:09.576900 139647895070464 builder_impl.py:421] SavedModel written to: /home/psdhruv/virality/cloudmlemodels/export/exporter/temp-b'1562519348'/saved_model.pb\n",
      "I0707 17:09:19.607870 139647895070464 basic_session_run_hooks.py:606] Saving checkpoints for 8 into /home/psdhruv/virality/cloudmlemodels/model.ckpt.\n",
      "I0707 17:09:20.060810 139647895070464 estimator.py:1145] Calling model_fn.\n",
      "I0707 17:09:20.061158 139647895070464 estimator.py:1145] Calling model_fn.\n",
      "I0707 17:09:20.632635 139647895070464 estimator.py:1147] Done calling model_fn.\n",
      "I0707 17:09:20.649453 139647895070464 estimator.py:1147] Done calling model_fn.\n",
      "I0707 17:09:20.670066 139647895070464 evaluation.py:255] Starting evaluation at 2019-07-07T17:09:20Z\n",
      "I0707 17:09:20.787627 139647895070464 monitored_session.py:240] Graph was finalized.\n",
      "I0707 17:09:20.789431 139647895070464 saver.py:1280] Restoring parameters from /home/psdhruv/virality/cloudmlemodels/model.ckpt-8\n",
      "I0707 17:09:20.876400 139647895070464 session_manager.py:500] Running local_init_op.\n",
      "I0707 17:09:20.908387 139647895070464 session_manager.py:502] Done running local_init_op.\n",
      "I0707 17:09:23.301860 139647895070464 evaluation.py:275] Finished evaluation at 2019-07-07-17:09:23\n",
      "I0707 17:09:23.302228 139647895070464 estimator.py:2039] Saving dict for global step 8: average_loss = 178361.52, global_step = 8, label/mean = 79.93597, loss = 740913700.0, metric1 = 422.32867, prediction/mean = 101.615845\n",
      "I0707 17:09:23.302815 139647895070464 estimator.py:2099] Saving 'checkpoint_path' summary for global step 8: /home/psdhruv/virality/cloudmlemodels/model.ckpt-8\n",
      "I0707 17:09:23.323304 139647895070464 estimator.py:1145] Calling model_fn.\n",
      "I0707 17:09:23.323650 139647895070464 estimator.py:1145] Calling model_fn.\n",
      "I0707 17:09:23.933418 139647895070464 estimator.py:1147] Done calling model_fn.\n",
      "I0707 17:09:23.933678 139647895070464 estimator.py:1147] Done calling model_fn.\n",
      "I0707 17:09:23.934763 139647895070464 export_utils.py:170] Signatures INCLUDED in export for Regress: None\n",
      "I0707 17:09:23.934888 139647895070464 export_utils.py:170] Signatures INCLUDED in export for Predict: ['predict']\n",
      "I0707 17:09:23.934966 139647895070464 export_utils.py:170] Signatures INCLUDED in export for Train: None\n",
      "I0707 17:09:23.935030 139647895070464 export_utils.py:170] Signatures INCLUDED in export for Classify: None\n",
      "I0707 17:09:23.935113 139647895070464 export_utils.py:170] Signatures INCLUDED in export for Eval: None\n",
      "I0707 17:09:23.935188 139647895070464 export_utils.py:173] Signatures EXCLUDED from export because they cannot be be served via TensorFlow Serving APIs:\n",
      "I0707 17:09:23.935286 139647895070464 export_utils.py:176] 'regression' : Regression input must be a single string Tensor; got {'num_of_sentences': <tf.Tensor 'Placeholder_3:0' shape=(?,) dtype=float32>, '0': <tf.Tensor 'Placeholder_8:0' shape=(?,) dtype=float32>, 'length': <tf.Tensor 'Placeholder_4:0' shape=(?,) dtype=float32>, '2': <tf.Tensor 'Placeholder_10:0' shape=(?,) dtype=float32>, '14': <tf.Tensor 'Placeholder_22:0' shape=(?,) dtype=float32>, 'msaav10': <tf.Tensor 'Placeholder:0' shape=(?,) dtype=float32>, 'upv3hr': <tf.Tensor 'Placeholder_7:0' shape=(?,) dtype=float32>, '6': <tf.Tensor 'Placeholder_14:0' shape=(?,) dtype=float32>, 'other_entities': <tf.Tensor 'Placeholder_6:0' shape=(?,) dtype=float32>, '1': <tf.Tensor 'Placeholder_9:0' shape=(?,) dtype=float32>, '11': <tf.Tensor 'Placeholder_19:0' shape=(?,) dtype=float32>, '9': <tf.Tensor 'Placeholder_17:0' shape=(?,) dtype=float32>, '3': <tf.Tensor 'Placeholder_11:0' shape=(?,) dtype=float32>, 'num_of_identities': <tf.Tensor 'Placeholder_5:0' shape=(?,) dtype=float32>, 'polarity': <tf.Tensor 'Placeholder_1:0' shape=(?,) dtype=float32>, '10': <tf.Tensor 'Placeholder_18:0' shape=(?,) dtype=float32>, 'cat': <tf.Tensor 'Placeholder_23:0' shape=(?,) dtype=string>, '12': <tf.Tensor 'Placeholder_20:0' shape=(?,) dtype=float32>, '13': <tf.Tensor 'Placeholder_21:0' shape=(?,) dtype=float32>, 'subjectivity': <tf.Tensor 'Placeholder_2:0' shape=(?,) dtype=float32>, 'weekday': <tf.Tensor 'Placeholder_24:0' shape=(?,) dtype=int32>, '4': <tf.Tensor 'Placeholder_12:0' shape=(?,) dtype=float32>, 'hour': <tf.Tensor 'Placeholder_25:0' shape=(?,) dtype=int32>, '8': <tf.Tensor 'Placeholder_16:0' shape=(?,) dtype=float32>, '7': <tf.Tensor 'Placeholder_15:0' shape=(?,) dtype=float32>, '5': <tf.Tensor 'Placeholder_13:0' shape=(?,) dtype=float32>}\n",
      "I0707 17:09:23.935392 139647895070464 export_utils.py:176] 'serving_default' : Regression input must be a single string Tensor; got {'num_of_sentences': <tf.Tensor 'Placeholder_3:0' shape=(?,) dtype=float32>, '0': <tf.Tensor 'Placeholder_8:0' shape=(?,) dtype=float32>, 'length': <tf.Tensor 'Placeholder_4:0' shape=(?,) dtype=float32>, '2': <tf.Tensor 'Placeholder_10:0' shape=(?,) dtype=float32>, '14': <tf.Tensor 'Placeholder_22:0' shape=(?,) dtype=float32>, 'msaav10': <tf.Tensor 'Placeholder:0' shape=(?,) dtype=float32>, 'upv3hr': <tf.Tensor 'Placeholder_7:0' shape=(?,) dtype=float32>, '6': <tf.Tensor 'Placeholder_14:0' shape=(?,) dtype=float32>, 'other_entities': <tf.Tensor 'Placeholder_6:0' shape=(?,) dtype=float32>, '1': <tf.Tensor 'Placeholder_9:0' shape=(?,) dtype=float32>, '11': <tf.Tensor 'Placeholder_19:0' shape=(?,) dtype=float32>, '9': <tf.Tensor 'Placeholder_17:0' shape=(?,) dtype=float32>, '3': <tf.Tensor 'Placeholder_11:0' shape=(?,) dtype=float32>, 'num_of_identities': <tf.Tensor 'Placeholder_5:0' shape=(?,) dtype=float32>, 'polarity': <tf.Tensor 'Placeholder_1:0' shape=(?,) dtype=float32>, '10': <tf.Tensor 'Placeholder_18:0' shape=(?,) dtype=float32>, 'cat': <tf.Tensor 'Placeholder_23:0' shape=(?,) dtype=string>, '12': <tf.Tensor 'Placeholder_20:0' shape=(?,) dtype=float32>, '13': <tf.Tensor 'Placeholder_21:0' shape=(?,) dtype=float32>, 'subjectivity': <tf.Tensor 'Placeholder_2:0' shape=(?,) dtype=float32>, 'weekday': <tf.Tensor 'Placeholder_24:0' shape=(?,) dtype=int32>, '4': <tf.Tensor 'Placeholder_12:0' shape=(?,) dtype=float32>, 'hour': <tf.Tensor 'Placeholder_25:0' shape=(?,) dtype=int32>, '8': <tf.Tensor 'Placeholder_16:0' shape=(?,) dtype=float32>, '7': <tf.Tensor 'Placeholder_15:0' shape=(?,) dtype=float32>, '5': <tf.Tensor 'Placeholder_13:0' shape=(?,) dtype=float32>}\n",
      "W0707 17:09:23.935462 139647895070464 export_utils.py:182] Export includes no default signature!\n",
      "I0707 17:09:23.990702 139647895070464 saver.py:1280] Restoring parameters from /home/psdhruv/virality/cloudmlemodels/model.ckpt-8\n",
      "I0707 17:09:24.023966 139647895070464 builder_impl.py:661] Assets added to graph.\n",
      "I0707 17:09:24.024195 139647895070464 builder_impl.py:456] No assets to write.\n",
      "I0707 17:09:24.116024 139647895070464 builder_impl.py:421] SavedModel written to: /home/psdhruv/virality/cloudmlemodels/export/exporter/temp-b'1562519363'/saved_model.pb\n",
      "I0707 17:09:33.250083 139647895070464 basic_session_run_hooks.py:606] Saving checkpoints for 9 into /home/psdhruv/virality/cloudmlemodels/model.ckpt.\n",
      "I0707 17:09:33.458155 139647895070464 estimator.py:1145] Calling model_fn.\n",
      "I0707 17:09:33.458505 139647895070464 estimator.py:1145] Calling model_fn.\n",
      "I0707 17:09:34.203220 139647895070464 estimator.py:1147] Done calling model_fn.\n",
      "I0707 17:09:34.219977 139647895070464 estimator.py:1147] Done calling model_fn.\n",
      "I0707 17:09:34.240308 139647895070464 evaluation.py:255] Starting evaluation at 2019-07-07T17:09:34Z\n",
      "I0707 17:09:34.362567 139647895070464 monitored_session.py:240] Graph was finalized.\n",
      "I0707 17:09:34.364314 139647895070464 saver.py:1280] Restoring parameters from /home/psdhruv/virality/cloudmlemodels/model.ckpt-9\n",
      "I0707 17:09:34.455308 139647895070464 session_manager.py:500] Running local_init_op.\n",
      "I0707 17:09:34.487356 139647895070464 session_manager.py:502] Done running local_init_op.\n",
      "I0707 17:09:36.256623 139647895070464 evaluation.py:275] Finished evaluation at 2019-07-07-17:09:36\n",
      "I0707 17:09:36.256983 139647895070464 estimator.py:2039] Saving dict for global step 9: average_loss = 176098.34, global_step = 9, label/mean = 79.93597, loss = 731512500.0, metric1 = 419.64072, prediction/mean = 97.993286\n",
      "I0707 17:09:36.257553 139647895070464 estimator.py:2099] Saving 'checkpoint_path' summary for global step 9: /home/psdhruv/virality/cloudmlemodels/model.ckpt-9\n",
      "I0707 17:09:36.278686 139647895070464 estimator.py:1145] Calling model_fn.\n",
      "I0707 17:09:36.279014 139647895070464 estimator.py:1145] Calling model_fn.\n",
      "I0707 17:09:36.708386 139647895070464 estimator.py:1147] Done calling model_fn.\n",
      "I0707 17:09:36.708645 139647895070464 estimator.py:1147] Done calling model_fn.\n",
      "I0707 17:09:36.709773 139647895070464 export_utils.py:170] Signatures INCLUDED in export for Regress: None\n",
      "I0707 17:09:36.709905 139647895070464 export_utils.py:170] Signatures INCLUDED in export for Predict: ['predict']\n",
      "I0707 17:09:36.709984 139647895070464 export_utils.py:170] Signatures INCLUDED in export for Train: None\n",
      "I0707 17:09:36.710051 139647895070464 export_utils.py:170] Signatures INCLUDED in export for Classify: None\n",
      "I0707 17:09:36.710121 139647895070464 export_utils.py:170] Signatures INCLUDED in export for Eval: None\n",
      "I0707 17:09:36.710186 139647895070464 export_utils.py:173] Signatures EXCLUDED from export because they cannot be be served via TensorFlow Serving APIs:\n",
      "I0707 17:09:36.710253 139647895070464 export_utils.py:176] 'regression' : Regression input must be a single string Tensor; got {'num_of_sentences': <tf.Tensor 'Placeholder_3:0' shape=(?,) dtype=float32>, '0': <tf.Tensor 'Placeholder_8:0' shape=(?,) dtype=float32>, 'length': <tf.Tensor 'Placeholder_4:0' shape=(?,) dtype=float32>, '2': <tf.Tensor 'Placeholder_10:0' shape=(?,) dtype=float32>, '14': <tf.Tensor 'Placeholder_22:0' shape=(?,) dtype=float32>, 'msaav10': <tf.Tensor 'Placeholder:0' shape=(?,) dtype=float32>, 'upv3hr': <tf.Tensor 'Placeholder_7:0' shape=(?,) dtype=float32>, '6': <tf.Tensor 'Placeholder_14:0' shape=(?,) dtype=float32>, 'other_entities': <tf.Tensor 'Placeholder_6:0' shape=(?,) dtype=float32>, '1': <tf.Tensor 'Placeholder_9:0' shape=(?,) dtype=float32>, '11': <tf.Tensor 'Placeholder_19:0' shape=(?,) dtype=float32>, '9': <tf.Tensor 'Placeholder_17:0' shape=(?,) dtype=float32>, '3': <tf.Tensor 'Placeholder_11:0' shape=(?,) dtype=float32>, 'num_of_identities': <tf.Tensor 'Placeholder_5:0' shape=(?,) dtype=float32>, 'polarity': <tf.Tensor 'Placeholder_1:0' shape=(?,) dtype=float32>, '10': <tf.Tensor 'Placeholder_18:0' shape=(?,) dtype=float32>, 'cat': <tf.Tensor 'Placeholder_23:0' shape=(?,) dtype=string>, '12': <tf.Tensor 'Placeholder_20:0' shape=(?,) dtype=float32>, '13': <tf.Tensor 'Placeholder_21:0' shape=(?,) dtype=float32>, 'subjectivity': <tf.Tensor 'Placeholder_2:0' shape=(?,) dtype=float32>, 'weekday': <tf.Tensor 'Placeholder_24:0' shape=(?,) dtype=int32>, '4': <tf.Tensor 'Placeholder_12:0' shape=(?,) dtype=float32>, 'hour': <tf.Tensor 'Placeholder_25:0' shape=(?,) dtype=int32>, '8': <tf.Tensor 'Placeholder_16:0' shape=(?,) dtype=float32>, '7': <tf.Tensor 'Placeholder_15:0' shape=(?,) dtype=float32>, '5': <tf.Tensor 'Placeholder_13:0' shape=(?,) dtype=float32>}\n",
      "I0707 17:09:36.710324 139647895070464 export_utils.py:176] 'serving_default' : Regression input must be a single string Tensor; got {'num_of_sentences': <tf.Tensor 'Placeholder_3:0' shape=(?,) dtype=float32>, '0': <tf.Tensor 'Placeholder_8:0' shape=(?,) dtype=float32>, 'length': <tf.Tensor 'Placeholder_4:0' shape=(?,) dtype=float32>, '2': <tf.Tensor 'Placeholder_10:0' shape=(?,) dtype=float32>, '14': <tf.Tensor 'Placeholder_22:0' shape=(?,) dtype=float32>, 'msaav10': <tf.Tensor 'Placeholder:0' shape=(?,) dtype=float32>, 'upv3hr': <tf.Tensor 'Placeholder_7:0' shape=(?,) dtype=float32>, '6': <tf.Tensor 'Placeholder_14:0' shape=(?,) dtype=float32>, 'other_entities': <tf.Tensor 'Placeholder_6:0' shape=(?,) dtype=float32>, '1': <tf.Tensor 'Placeholder_9:0' shape=(?,) dtype=float32>, '11': <tf.Tensor 'Placeholder_19:0' shape=(?,) dtype=float32>, '9': <tf.Tensor 'Placeholder_17:0' shape=(?,) dtype=float32>, '3': <tf.Tensor 'Placeholder_11:0' shape=(?,) dtype=float32>, 'num_of_identities': <tf.Tensor 'Placeholder_5:0' shape=(?,) dtype=float32>, 'polarity': <tf.Tensor 'Placeholder_1:0' shape=(?,) dtype=float32>, '10': <tf.Tensor 'Placeholder_18:0' shape=(?,) dtype=float32>, 'cat': <tf.Tensor 'Placeholder_23:0' shape=(?,) dtype=string>, '12': <tf.Tensor 'Placeholder_20:0' shape=(?,) dtype=float32>, '13': <tf.Tensor 'Placeholder_21:0' shape=(?,) dtype=float32>, 'subjectivity': <tf.Tensor 'Placeholder_2:0' shape=(?,) dtype=float32>, 'weekday': <tf.Tensor 'Placeholder_24:0' shape=(?,) dtype=int32>, '4': <tf.Tensor 'Placeholder_12:0' shape=(?,) dtype=float32>, 'hour': <tf.Tensor 'Placeholder_25:0' shape=(?,) dtype=int32>, '8': <tf.Tensor 'Placeholder_16:0' shape=(?,) dtype=float32>, '7': <tf.Tensor 'Placeholder_15:0' shape=(?,) dtype=float32>, '5': <tf.Tensor 'Placeholder_13:0' shape=(?,) dtype=float32>}\n",
      "W0707 17:09:36.710396 139647895070464 export_utils.py:182] Export includes no default signature!\n",
      "I0707 17:09:36.766792 139647895070464 saver.py:1280] Restoring parameters from /home/psdhruv/virality/cloudmlemodels/model.ckpt-9\n",
      "I0707 17:09:36.797477 139647895070464 builder_impl.py:661] Assets added to graph.\n",
      "I0707 17:09:36.797711 139647895070464 builder_impl.py:456] No assets to write.\n",
      "I0707 17:09:36.887873 139647895070464 builder_impl.py:421] SavedModel written to: /home/psdhruv/virality/cloudmlemodels/export/exporter/temp-b'1562519376'/saved_model.pb\n",
      "I0707 17:09:46.371177 139647895070464 basic_session_run_hooks.py:606] Saving checkpoints for 10 into /home/psdhruv/virality/cloudmlemodels/model.ckpt.\n",
      "I0707 17:09:46.756786 139647895070464 estimator.py:1145] Calling model_fn.\n",
      "I0707 17:09:46.757118 139647895070464 estimator.py:1145] Calling model_fn.\n",
      "I0707 17:09:47.321223 139647895070464 estimator.py:1147] Done calling model_fn.\n",
      "I0707 17:09:47.337960 139647895070464 estimator.py:1147] Done calling model_fn.\n",
      "I0707 17:09:47.358499 139647895070464 evaluation.py:255] Starting evaluation at 2019-07-07T17:09:47Z\n",
      "I0707 17:09:47.479511 139647895070464 monitored_session.py:240] Graph was finalized.\n",
      "I0707 17:09:47.481108 139647895070464 saver.py:1280] Restoring parameters from /home/psdhruv/virality/cloudmlemodels/model.ckpt-10\n",
      "I0707 17:09:47.556130 139647895070464 session_manager.py:500] Running local_init_op.\n",
      "I0707 17:09:47.586068 139647895070464 session_manager.py:502] Done running local_init_op.\n",
      "I0707 17:09:49.393466 139647895070464 evaluation.py:275] Finished evaluation at 2019-07-07-17:09:49\n",
      "I0707 17:09:49.393858 139647895070464 estimator.py:2039] Saving dict for global step 10: average_loss = 174035.55, global_step = 10, label/mean = 79.93597, loss = 722943700.0, metric1 = 417.1757, prediction/mean = 95.30615\n",
      "I0707 17:09:49.394417 139647895070464 estimator.py:2099] Saving 'checkpoint_path' summary for global step 10: /home/psdhruv/virality/cloudmlemodels/model.ckpt-10\n",
      "I0707 17:09:49.414870 139647895070464 estimator.py:1145] Calling model_fn.\n",
      "I0707 17:09:49.415179 139647895070464 estimator.py:1145] Calling model_fn.\n",
      "I0707 17:09:50.031545 139647895070464 estimator.py:1147] Done calling model_fn.\n",
      "I0707 17:09:50.031823 139647895070464 estimator.py:1147] Done calling model_fn.\n",
      "I0707 17:09:50.032903 139647895070464 export_utils.py:170] Signatures INCLUDED in export for Regress: None\n",
      "I0707 17:09:50.033027 139647895070464 export_utils.py:170] Signatures INCLUDED in export for Predict: ['predict']\n",
      "I0707 17:09:50.033100 139647895070464 export_utils.py:170] Signatures INCLUDED in export for Train: None\n",
      "I0707 17:09:50.033171 139647895070464 export_utils.py:170] Signatures INCLUDED in export for Classify: None\n",
      "I0707 17:09:50.033240 139647895070464 export_utils.py:170] Signatures INCLUDED in export for Eval: None\n",
      "I0707 17:09:50.033308 139647895070464 export_utils.py:173] Signatures EXCLUDED from export because they cannot be be served via TensorFlow Serving APIs:\n",
      "I0707 17:09:50.033377 139647895070464 export_utils.py:176] 'regression' : Regression input must be a single string Tensor; got {'num_of_sentences': <tf.Tensor 'Placeholder_3:0' shape=(?,) dtype=float32>, '0': <tf.Tensor 'Placeholder_8:0' shape=(?,) dtype=float32>, 'length': <tf.Tensor 'Placeholder_4:0' shape=(?,) dtype=float32>, '2': <tf.Tensor 'Placeholder_10:0' shape=(?,) dtype=float32>, '14': <tf.Tensor 'Placeholder_22:0' shape=(?,) dtype=float32>, 'msaav10': <tf.Tensor 'Placeholder:0' shape=(?,) dtype=float32>, 'upv3hr': <tf.Tensor 'Placeholder_7:0' shape=(?,) dtype=float32>, '6': <tf.Tensor 'Placeholder_14:0' shape=(?,) dtype=float32>, 'other_entities': <tf.Tensor 'Placeholder_6:0' shape=(?,) dtype=float32>, '1': <tf.Tensor 'Placeholder_9:0' shape=(?,) dtype=float32>, '11': <tf.Tensor 'Placeholder_19:0' shape=(?,) dtype=float32>, '9': <tf.Tensor 'Placeholder_17:0' shape=(?,) dtype=float32>, '3': <tf.Tensor 'Placeholder_11:0' shape=(?,) dtype=float32>, 'num_of_identities': <tf.Tensor 'Placeholder_5:0' shape=(?,) dtype=float32>, 'polarity': <tf.Tensor 'Placeholder_1:0' shape=(?,) dtype=float32>, '10': <tf.Tensor 'Placeholder_18:0' shape=(?,) dtype=float32>, 'cat': <tf.Tensor 'Placeholder_23:0' shape=(?,) dtype=string>, '12': <tf.Tensor 'Placeholder_20:0' shape=(?,) dtype=float32>, '13': <tf.Tensor 'Placeholder_21:0' shape=(?,) dtype=float32>, 'subjectivity': <tf.Tensor 'Placeholder_2:0' shape=(?,) dtype=float32>, 'weekday': <tf.Tensor 'Placeholder_24:0' shape=(?,) dtype=int32>, '4': <tf.Tensor 'Placeholder_12:0' shape=(?,) dtype=float32>, 'hour': <tf.Tensor 'Placeholder_25:0' shape=(?,) dtype=int32>, '8': <tf.Tensor 'Placeholder_16:0' shape=(?,) dtype=float32>, '7': <tf.Tensor 'Placeholder_15:0' shape=(?,) dtype=float32>, '5': <tf.Tensor 'Placeholder_13:0' shape=(?,) dtype=float32>}\n",
      "I0707 17:09:50.033448 139647895070464 export_utils.py:176] 'serving_default' : Regression input must be a single string Tensor; got {'num_of_sentences': <tf.Tensor 'Placeholder_3:0' shape=(?,) dtype=float32>, '0': <tf.Tensor 'Placeholder_8:0' shape=(?,) dtype=float32>, 'length': <tf.Tensor 'Placeholder_4:0' shape=(?,) dtype=float32>, '2': <tf.Tensor 'Placeholder_10:0' shape=(?,) dtype=float32>, '14': <tf.Tensor 'Placeholder_22:0' shape=(?,) dtype=float32>, 'msaav10': <tf.Tensor 'Placeholder:0' shape=(?,) dtype=float32>, 'upv3hr': <tf.Tensor 'Placeholder_7:0' shape=(?,) dtype=float32>, '6': <tf.Tensor 'Placeholder_14:0' shape=(?,) dtype=float32>, 'other_entities': <tf.Tensor 'Placeholder_6:0' shape=(?,) dtype=float32>, '1': <tf.Tensor 'Placeholder_9:0' shape=(?,) dtype=float32>, '11': <tf.Tensor 'Placeholder_19:0' shape=(?,) dtype=float32>, '9': <tf.Tensor 'Placeholder_17:0' shape=(?,) dtype=float32>, '3': <tf.Tensor 'Placeholder_11:0' shape=(?,) dtype=float32>, 'num_of_identities': <tf.Tensor 'Placeholder_5:0' shape=(?,) dtype=float32>, 'polarity': <tf.Tensor 'Placeholder_1:0' shape=(?,) dtype=float32>, '10': <tf.Tensor 'Placeholder_18:0' shape=(?,) dtype=float32>, 'cat': <tf.Tensor 'Placeholder_23:0' shape=(?,) dtype=string>, '12': <tf.Tensor 'Placeholder_20:0' shape=(?,) dtype=float32>, '13': <tf.Tensor 'Placeholder_21:0' shape=(?,) dtype=float32>, 'subjectivity': <tf.Tensor 'Placeholder_2:0' shape=(?,) dtype=float32>, 'weekday': <tf.Tensor 'Placeholder_24:0' shape=(?,) dtype=int32>, '4': <tf.Tensor 'Placeholder_12:0' shape=(?,) dtype=float32>, 'hour': <tf.Tensor 'Placeholder_25:0' shape=(?,) dtype=int32>, '8': <tf.Tensor 'Placeholder_16:0' shape=(?,) dtype=float32>, '7': <tf.Tensor 'Placeholder_15:0' shape=(?,) dtype=float32>, '5': <tf.Tensor 'Placeholder_13:0' shape=(?,) dtype=float32>}\n",
      "W0707 17:09:50.033519 139647895070464 export_utils.py:182] Export includes no default signature!\n",
      "I0707 17:09:50.088817 139647895070464 saver.py:1280] Restoring parameters from /home/psdhruv/virality/cloudmlemodels/model.ckpt-10\n",
      "I0707 17:09:50.121350 139647895070464 builder_impl.py:661] Assets added to graph.\n",
      "I0707 17:09:50.121588 139647895070464 builder_impl.py:456] No assets to write.\n",
      "I0707 17:09:50.214243 139647895070464 builder_impl.py:421] SavedModel written to: /home/psdhruv/virality/cloudmlemodels/export/exporter/temp-b'1562519389'/saved_model.pb\n",
      "I0707 17:09:50.614934 139647895070464 estimator.py:368] Loss for final step: 8105576400.0.\n"
     ]
    }
   ],
   "source": [
    "%%bash\n",
    "#running locally using ai platform\n",
    "#OUTDIR= ${PWD}/cloudmlemodels\n",
    "export PYTHONPATH=${PYTHONPATH}:${PWD}/trainer\n",
    "gcloud ai-platform local train \\\n",
    "   --module-name=trainer.task \\\n",
    "   --package-path=${PWD}/trainer \\\n",
    "   -- \\\n",
    "   --train_dir=${PWD}/final_data/df_train.csv \\\n",
    "   --valid_dir=${PWD}/final_data/df_valid.csv  \\\n",
    "   --job-dir=${PWD}/cloudmlemodels \\\n",
    "   --OUTDIR=${PWD}/cloudmlemodels"
   ]
  },
  {
   "cell_type": "code",
   "execution_count": 102,
   "metadata": {},
   "outputs": [
    {
     "name": "stdout",
     "output_type": "stream",
     "text": [
      "gs://data-etl-process1/final_model\n"
     ]
    }
   ],
   "source": [
    "%%bash\n",
    "\n",
    "OUTDIR=gs://${BUCKET}/final_model\n",
    "echo $OUTDIR\n",
    "#--staging-bucket=gs://$BUCKET \\"
   ]
  },
  {
   "cell_type": "code",
   "execution_count": 195,
   "metadata": {},
   "outputs": [
    {
     "name": "stdout",
     "output_type": "stream",
     "text": [
      "jobId: virality_190711_123025\n",
      "state: QUEUED\n"
     ]
    },
    {
     "name": "stderr",
     "output_type": "stream",
     "text": [
      "Job [virality_190711_123025] submitted successfully.\n",
      "Your job is still active. You may view the status of your job with the command\n",
      "\n",
      "  $ gcloud ai-platform jobs describe virality_190711_123025\n",
      "\n",
      "or continue streaming the logs with the command\n",
      "\n",
      "  $ gcloud ai-platform jobs stream-logs virality_190711_123025\n"
     ]
    }
   ],
   "source": [
    "%%bash\n",
    "#hptuning on cloudml\n",
    "#make sure all data is in buckets.\n",
    "OUTDIR=gs://${BUCKET}/${TRAINING_DIR}\n",
    "JOBNAME=${MODEL_NAME}_$(date -u +%y%m%d_%H%M%S)\n",
    "export PYTHONPATH=${PYTHONPATH}:${PWD}/trainer\n",
    "gcloud ai-platform jobs submit training $JOBNAME \\\n",
    "   --config=hyperparam.yaml \\\n",
    "   --module-name=trainer.task \\\n",
    "   --package-path=$(pwd)/trainer \\\n",
    "   --job-dir=$OUTDIR \\\n",
    "   --runtime-version=1.13 \\\n",
    "   --python-version 3.5 \\\n",
    "   --scale-tier=STANDARD_1 \\\n",
    "   --region=$REGION \\\n",
    "   --\\\n",
    "   --output_dir=$OUTDIR \\"
   ]
  },
  {
   "cell_type": "code",
   "execution_count": 196,
   "metadata": {},
   "outputs": [
    {
     "name": "stdout",
     "output_type": "stream",
     "text": [
      "jobId: virality_190711_123440\n",
      "state: QUEUED\n"
     ]
    },
    {
     "name": "stderr",
     "output_type": "stream",
     "text": [
      "Job [virality_190711_123440] submitted successfully.\n",
      "Your job is still active. You may view the status of your job with the command\n",
      "\n",
      "  $ gcloud ai-platform jobs describe virality_190711_123440\n",
      "\n",
      "or continue streaming the logs with the command\n",
      "\n",
      "  $ gcloud ai-platform jobs stream-logs virality_190711_123440\n"
     ]
    }
   ],
   "source": [
    "%%bash\n",
    "#Submitting job without hptuning\n",
    "OUTDIR=gs://${BUCKET}/final_model2\n",
    "JOBNAME=${MODEL_NAME}_$(date -u +%y%m%d_%H%M%S)\n",
    "export PYTHONPATH=${PYTHONPATH}:${PWD}/trainer\n",
    "gcloud ai-platform jobs submit training $JOBNAME \\\n",
    "   --module-name=trainer.task \\\n",
    "   --package-path=$(pwd)/trainer \\\n",
    "   --job-dir=$OUTDIR \\\n",
    "   --runtime-version=1.13 \\\n",
    "   --python-version 3.5 \\\n",
    "   --scale-tier=STANDARD_1 \\\n",
    "   --region=$REGION \\\n",
    "   --\\\n",
    "   --output_dir=$OUTDIR \\"
   ]
  },
  {
   "cell_type": "code",
   "execution_count": 175,
   "metadata": {},
   "outputs": [],
   "source": [
    "import pandas as pd\n",
    "df_train=pd.read_csv(\"./final_data2/df_valid.csv\")"
   ]
  },
  {
   "cell_type": "code",
   "execution_count": 205,
   "metadata": {},
   "outputs": [
    {
     "name": "stdout",
     "output_type": "stream",
     "text": [
      "gs://data-etl-process1/my_local_model/cloudmlemodels/export/exporter/1562843199/\n"
     ]
    }
   ],
   "source": [
    "%%bash\n",
    "gsutil ls gs://${BUCKET}/my_local_model/cloudmlemodels/export/exporter | tail -1"
   ]
  },
  {
   "cell_type": "code",
   "execution_count": 197,
   "metadata": {
    "scrolled": true
   },
   "outputs": [
    {
     "name": "stdout",
     "output_type": "stream",
     "text": [
      "gs://data-etl-process1/final_model2/export/exporter/1562849115/\n"
     ]
    }
   ],
   "source": [
    "%%bash\n",
    "MODEL_LOCATION=$(gsutil ls gs://${BUCKET}/final_model2/export/exporter | tail -1)\n",
    "echo $MODEL_LOCATION"
   ]
  },
  {
   "cell_type": "code",
   "execution_count": 198,
   "metadata": {},
   "outputs": [
    {
     "name": "stdout",
     "output_type": "stream",
     "text": [
      "asia-east1\n"
     ]
    }
   ],
   "source": [
    "%%bash\n",
    "echo $REGION"
   ]
  },
  {
   "cell_type": "code",
   "execution_count": 206,
   "metadata": {},
   "outputs": [
    {
     "name": "stderr",
     "output_type": "stream",
     "text": [
      "Creating version (this might take a few minutes)......\n",
      "....................................................................................................................................................................................................................................................................done.\n"
     ]
    }
   ],
   "source": [
    "%%bash\n",
    "MODEL_NAME=\"virality_punjabkesri\"\n",
    "MODEL_VERSION=\"v4\"#enter new version\n",
    "MODEL_LOCATION=$(gsutil ls gs://${BUCKET}/my_local_model/cloudmlemodels/export/exporter | tail -1)\n",
    "#echo \"Deleting and deploying $MODEL_NAME $MODEL_VERSION from $MODEL_LOCATION ... this will take a few minutes\"\n",
    "#gcloud ml-engine versions delete ${MODEL_VERSION} --model ${MODEL_NAME}\n",
    "#gcloud ml-engine models delete ${MODEL_NAME}\n",
    "#gcloud ai-platform models create ${MODEL_NAME} --regions=\"asia-northeast1\"\n",
    "gcloud ai-platform versions create ${MODEL_VERSION} --model ${MODEL_NAME} \\\n",
    "--origin ${MODEL_LOCATION} --runtime-version $TFVERSION --python-version=3.5\n"
   ]
  },
  {
   "cell_type": "code",
   "execution_count": 3,
   "metadata": {},
   "outputs": [
    {
     "name": "stdout",
     "output_type": "stream",
     "text": [
      "b'{\"predictions\": [{\"predictions\": [286.08355712890625]}]}'\n"
     ]
    }
   ],
   "source": [
    "#getting predictions from deployed model\n",
    "from oauth2client.client import GoogleCredentials\n",
    "import requests\n",
    "import json\n",
    "\n",
    "MODEL_NAME = \"virality_punjabkesri\"\n",
    "MODEL_VERSION = 'v4'\n",
    "PROJECT = \"tatvic-gcp-dev-team\" \n",
    "token = GoogleCredentials.get_application_default().get_access_token().access_token\n",
    "api = 'https://ml.googleapis.com/v1/projects/{}/models/{}/versions/{}:predict' \\\n",
    "         .format(PROJECT, MODEL_NAME, MODEL_VERSION)\n",
    "headers = {'Authorization': 'Bearer ' + token }\n",
    "data = {\n",
    "  'instances': [\n",
    "     {'0': 0.0035658744,\n",
    " '1': 0.004414475,\n",
    " '10': 0.0018055257,\n",
    " '11': 0.0014781109,\n",
    " '12': 0.0025544928,\n",
    " '13': 0.004745611,\n",
    " '14': 0.2856712,\n",
    " '2': 0.0020961564,\n",
    " '3': 0.0041580633,\n",
    " '4': 0.5815388,\n",
    " '5': 0.0034491895,\n",
    " '6': 0.002489877,\n",
    " '7': 0.0061961785,\n",
    " '8': 0.0018793311,\n",
    " '9': 0.09395714,\n",
    " 'cat': 'sports',\n",
    " 'hour': 0,\n",
    " 'length': 302,\n",
    " 'msaav10': 370.6,\n",
    " 'num_of_identities': 4,\n",
    " 'num_of_sentences': 3,\n",
    " 'other_entities': 0,\n",
    " 'polarity': 0.10714285714285714,\n",
    " 'subjectivity': 0.5714285714285714,\n",
    " 'weekday': 1,\n",
    " \"upv3hr\":55\n",
    "     }]\n",
    "}\n",
    "response = requests.post(api, json=data, headers=headers)\n",
    "print(response.content)"
   ]
  },
  {
   "cell_type": "code",
   "execution_count": 333,
   "metadata": {},
   "outputs": [
    {
     "name": "stdout",
     "output_type": "stream",
     "text": [
      "b'{\"predictions\": [{\"predictions\": [147.20956420898438]}]}'\n"
     ]
    }
   ],
   "source": [
    "print(response.content)"
   ]
  },
  {
   "cell_type": "code",
   "execution_count": 16,
   "metadata": {},
   "outputs": [
    {
     "name": "stdout",
     "output_type": "stream",
     "text": [
      "Process is terminated.\n"
     ]
    }
   ],
   "source": [
    "#running locally\n",
    "%%bash\n",
    "\n",
    "python -m trainer.task --OUTDIR=\"./cloudmlemodels\""
   ]
  }
 ],
 "metadata": {
  "kernelspec": {
   "display_name": "Python 3",
   "language": "python",
   "name": "python3"
  },
  "language_info": {
   "codemirror_mode": {
    "name": "ipython",
    "version": 3
   },
   "file_extension": ".py",
   "mimetype": "text/x-python",
   "name": "python",
   "nbconvert_exporter": "python",
   "pygments_lexer": "ipython3",
   "version": "3.5.3"
  }
 },
 "nbformat": 4,
 "nbformat_minor": 2
}
